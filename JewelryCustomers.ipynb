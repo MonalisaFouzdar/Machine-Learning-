{
 "cells": [
  {
   "cell_type": "code",
   "execution_count": 94,
   "metadata": {},
   "outputs": [
    {
     "name": "stdout",
     "output_type": "stream",
     "text": [
      "   Age  Income  SpendingScore       Savings\n",
      "0   58   77769       0.791329   6559.829923\n",
      "1   59   81799       0.791082   5417.661426\n",
      "2   62   74751       0.702657   9258.992965\n",
      "3   59   74373       0.765680   7346.334504\n",
      "4   87   17760       0.348778  16869.507130\n"
     ]
    }
   ],
   "source": [
    "import pandas as pd\n",
    "import numpy as np\n",
    "\n",
    "import matplotlib as mpl\n",
    "import matplotlib.pyplot as plt\n",
    "from mpl_toolkits.mplot3d import Axes3D\n",
    "import seaborn as sns \n",
    "\n",
    "from sklearn.metrics import silhouette_score, silhouette_samples\n",
    "import sklearn.metrics\n",
    "from sklearn.preprocessing import StandardScaler\n",
    "from sklearn.cluster import KMeans, DBSCAN, AgglomerativeClustering\n",
    "from sklearn.mixture import GaussianMixture\n",
    "\n",
    "\n",
    "\n",
    "import itertools\n",
    "\n",
    "import scipy\n",
    "\n",
    "from yellowbrick.cluster import SilhouetteVisualizer, InterclusterDistance, KElbowVisualizer\n",
    "\n",
    "\n",
    "\n",
    "from IPython.core.interactiveshell import InteractiveShell\n",
    "InteractiveShell.ast_node_interactivity = \"all\"\n",
    "\n",
    "# This will ensure that matplotlib figures don't get cut off when saving with savefig()\n",
    "from matplotlib import rcParams\n",
    "rcParams.update({'figure.autolayout': True})\n",
    "import matplotlib.pyplot as plt\n",
    "from sklearn.cluster import KMeans\n",
    "%matplotlib inline\n",
    "\n",
    "data_url=\"/Users/monalisa/Downloads/jewelry_customers.csv\"\n",
    "data=pd.read_csv(data_url)\n",
    "print(data.head())\n",
    "\n"
   ]
  },
  {
   "cell_type": "code",
   "execution_count": 95,
   "metadata": {
    "scrolled": true
   },
   "outputs": [
    {
     "name": "stdout",
     "output_type": "stream",
     "text": [
      "<class 'pandas.core.frame.DataFrame'>\n",
      "RangeIndex: 505 entries, 0 to 504\n",
      "Data columns (total 4 columns):\n",
      "Age              505 non-null int64\n",
      "Income           505 non-null int64\n",
      "SpendingScore    505 non-null float64\n",
      "Savings          505 non-null float64\n",
      "dtypes: float64(2), int64(2)\n",
      "memory usage: 15.9 KB\n"
     ]
    }
   ],
   "source": [
    "data.info()"
   ]
  },
  {
   "cell_type": "code",
   "execution_count": 96,
   "metadata": {},
   "outputs": [
    {
     "data": {
      "text/html": [
       "<div>\n",
       "<style scoped>\n",
       "    .dataframe tbody tr th:only-of-type {\n",
       "        vertical-align: middle;\n",
       "    }\n",
       "\n",
       "    .dataframe tbody tr th {\n",
       "        vertical-align: top;\n",
       "    }\n",
       "\n",
       "    .dataframe thead th {\n",
       "        text-align: right;\n",
       "    }\n",
       "</style>\n",
       "<table border=\"1\" class=\"dataframe\">\n",
       "  <thead>\n",
       "    <tr style=\"text-align: right;\">\n",
       "      <th></th>\n",
       "      <th>Age</th>\n",
       "      <th>Income</th>\n",
       "      <th>SpendingScore</th>\n",
       "      <th>Savings</th>\n",
       "    </tr>\n",
       "  </thead>\n",
       "  <tbody>\n",
       "    <tr>\n",
       "      <th>count</th>\n",
       "      <td>505.000000</td>\n",
       "      <td>505.000000</td>\n",
       "      <td>505.000000</td>\n",
       "      <td>505.000000</td>\n",
       "    </tr>\n",
       "    <tr>\n",
       "      <th>mean</th>\n",
       "      <td>59.019802</td>\n",
       "      <td>75513.291089</td>\n",
       "      <td>0.505083</td>\n",
       "      <td>11862.455867</td>\n",
       "    </tr>\n",
       "    <tr>\n",
       "      <th>std</th>\n",
       "      <td>24.140043</td>\n",
       "      <td>35992.922184</td>\n",
       "      <td>0.259634</td>\n",
       "      <td>4949.229253</td>\n",
       "    </tr>\n",
       "    <tr>\n",
       "      <th>min</th>\n",
       "      <td>17.000000</td>\n",
       "      <td>12000.000000</td>\n",
       "      <td>0.000000</td>\n",
       "      <td>0.000000</td>\n",
       "    </tr>\n",
       "    <tr>\n",
       "      <th>25%</th>\n",
       "      <td>34.000000</td>\n",
       "      <td>34529.000000</td>\n",
       "      <td>0.304792</td>\n",
       "      <td>6828.709702</td>\n",
       "    </tr>\n",
       "    <tr>\n",
       "      <th>50%</th>\n",
       "      <td>59.000000</td>\n",
       "      <td>75078.000000</td>\n",
       "      <td>0.368215</td>\n",
       "      <td>14209.932802</td>\n",
       "    </tr>\n",
       "    <tr>\n",
       "      <th>75%</th>\n",
       "      <td>85.000000</td>\n",
       "      <td>107100.000000</td>\n",
       "      <td>0.768279</td>\n",
       "      <td>16047.268331</td>\n",
       "    </tr>\n",
       "    <tr>\n",
       "      <th>max</th>\n",
       "      <td>97.000000</td>\n",
       "      <td>142000.000000</td>\n",
       "      <td>1.000000</td>\n",
       "      <td>20000.000000</td>\n",
       "    </tr>\n",
       "  </tbody>\n",
       "</table>\n",
       "</div>"
      ],
      "text/plain": [
       "              Age         Income  SpendingScore       Savings\n",
       "count  505.000000     505.000000     505.000000    505.000000\n",
       "mean    59.019802   75513.291089       0.505083  11862.455867\n",
       "std     24.140043   35992.922184       0.259634   4949.229253\n",
       "min     17.000000   12000.000000       0.000000      0.000000\n",
       "25%     34.000000   34529.000000       0.304792   6828.709702\n",
       "50%     59.000000   75078.000000       0.368215  14209.932802\n",
       "75%     85.000000  107100.000000       0.768279  16047.268331\n",
       "max     97.000000  142000.000000       1.000000  20000.000000"
      ]
     },
     "execution_count": 96,
     "metadata": {},
     "output_type": "execute_result"
    }
   ],
   "source": [
    "data.describe()"
   ]
  },
  {
   "cell_type": "code",
   "execution_count": 97,
   "metadata": {},
   "outputs": [
    {
     "data": {
      "text/plain": [
       "Age              0\n",
       "Income           0\n",
       "SpendingScore    0\n",
       "Savings          0\n",
       "dtype: int64"
      ]
     },
     "execution_count": 97,
     "metadata": {},
     "output_type": "execute_result"
    }
   ],
   "source": [
    "# Check missing value\n",
    "data.isnull().sum()"
   ]
  },
  {
   "cell_type": "code",
   "execution_count": 98,
   "metadata": {},
   "outputs": [],
   "source": [
    "# target(PURCHASE) distribution\n",
    "#l = data[\"Income\"].value_counts()\n",
    "#l "
   ]
  },
  {
   "cell_type": "code",
   "execution_count": 99,
   "metadata": {},
   "outputs": [
    {
     "name": "stdout",
     "output_type": "stream",
     "text": [
      "(20, 4)\n"
     ]
    }
   ],
   "source": [
    "# load make_blobs to simulate data\n",
    "from sklearn.datasets import make_blobs\n",
    "# load decomposition to do PCA analysis with sklearn\n",
    "from sklearn import decomposition\n",
    "X1, Y1 = make_blobs(n_features=4, \n",
    "         n_samples=20,\n",
    "         centers=4, random_state=4,\n",
    "         cluster_std=2)\n",
    "print(X1.shape)\n",
    "\n"
   ]
  },
  {
   "cell_type": "code",
   "execution_count": 100,
   "metadata": {},
   "outputs": [
    {
     "data": {
      "text/html": [
       "<div>\n",
       "<style scoped>\n",
       "    .dataframe tbody tr th:only-of-type {\n",
       "        vertical-align: middle;\n",
       "    }\n",
       "\n",
       "    .dataframe tbody tr th {\n",
       "        vertical-align: top;\n",
       "    }\n",
       "\n",
       "    .dataframe thead th {\n",
       "        text-align: right;\n",
       "    }\n",
       "</style>\n",
       "<table border=\"1\" class=\"dataframe\">\n",
       "  <thead>\n",
       "    <tr style=\"text-align: right;\">\n",
       "      <th></th>\n",
       "      <th>PC1</th>\n",
       "      <th>PC2</th>\n",
       "      <th>PC3</th>\n",
       "      <th>PC4</th>\n",
       "      <th>Cluster</th>\n",
       "    </tr>\n",
       "  </thead>\n",
       "  <tbody>\n",
       "    <tr>\n",
       "      <th>0</th>\n",
       "      <td>-4.409551</td>\n",
       "      <td>-3.160127</td>\n",
       "      <td>-4.509424</td>\n",
       "      <td>-1.065725</td>\n",
       "      <td>2</td>\n",
       "    </tr>\n",
       "    <tr>\n",
       "      <th>1</th>\n",
       "      <td>14.146063</td>\n",
       "      <td>-0.872741</td>\n",
       "      <td>3.008719</td>\n",
       "      <td>2.515053</td>\n",
       "      <td>3</td>\n",
       "    </tr>\n",
       "    <tr>\n",
       "      <th>2</th>\n",
       "      <td>-11.595309</td>\n",
       "      <td>1.509135</td>\n",
       "      <td>1.382673</td>\n",
       "      <td>1.672560</td>\n",
       "      <td>1</td>\n",
       "    </tr>\n",
       "    <tr>\n",
       "      <th>3</th>\n",
       "      <td>17.044320</td>\n",
       "      <td>-3.644227</td>\n",
       "      <td>2.451111</td>\n",
       "      <td>0.028253</td>\n",
       "      <td>3</td>\n",
       "    </tr>\n",
       "    <tr>\n",
       "      <th>4</th>\n",
       "      <td>3.876021</td>\n",
       "      <td>8.312817</td>\n",
       "      <td>-4.916024</td>\n",
       "      <td>0.060336</td>\n",
       "      <td>0</td>\n",
       "    </tr>\n",
       "  </tbody>\n",
       "</table>\n",
       "</div>"
      ],
      "text/plain": [
       "         PC1       PC2       PC3       PC4  Cluster\n",
       "0  -4.409551 -3.160127 -4.509424 -1.065725        2\n",
       "1  14.146063 -0.872741  3.008719  2.515053        3\n",
       "2 -11.595309  1.509135  1.382673  1.672560        1\n",
       "3  17.044320 -3.644227  2.451111  0.028253        3\n",
       "4   3.876021  8.312817 -4.916024  0.060336        0"
      ]
     },
     "execution_count": 100,
     "metadata": {},
     "output_type": "execute_result"
    }
   ],
   "source": [
    "#PC1=Age,PC2=Income,PC3=SpendingScore and PC4=Savings\n",
    "pca = decomposition.PCA(n_components=4)\n",
    "pc = pca.fit_transform(X1)\n",
    "pc_df = pd.DataFrame(data = pc , \n",
    "        columns = ['PC1', 'PC2','PC3','PC4'])\n",
    "pc_df['Cluster'] = Y1\n",
    "pc_df.head()"
   ]
  },
  {
   "cell_type": "code",
   "execution_count": 101,
   "metadata": {
    "scrolled": true
   },
   "outputs": [
    {
     "data": {
      "image/png": "[encoded data removed]",
      "text/plain": [
       "<Figure size 432x288 with 1 Axes>"
      ]
     },
     "metadata": {
      "needs_background": "light"
     },
     "output_type": "display_data"
    }
   ],
   "source": [
    "#The graph below shows that the Spending score and Savings have a very less contribution\n",
    "import seaborn as sns\n",
    "df = pd.DataFrame({'var':pca.explained_variance_ratio_,\n",
    "             'PC':['PC1','PC2','PC3','PC4']})\n",
    "sns.barplot(x='PC',y=\"var\", \n",
    "           data=df, color=\"c\");"
   ]
  },
  {
   "cell_type": "code",
   "execution_count": 102,
   "metadata": {},
   "outputs": [
    {
     "data": {
      "text/plain": [
       "Age              1.000000\n",
       "Savings          0.404934\n",
       "SpendingScore   -0.321971\n",
       "Income          -0.827002\n",
       "Name: Age, dtype: float64"
      ]
     },
     "execution_count": 102,
     "metadata": {},
     "output_type": "execute_result"
    }
   ],
   "source": [
    "#Corrolation of numeric features\n",
    "data['Age'] =data['Age'].astype('category').cat.codes\n",
    "\n",
    "\n",
    "corr_matrix = data.corr()\n",
    "\n",
    "corr_matrix[\"Age\"].sort_values(ascending=False)"
   ]
  },
  {
   "cell_type": "code",
   "execution_count": 103,
   "metadata": {},
   "outputs": [
    {
     "data": {
      "text/plain": [
       "<Figure size 720x720 with 0 Axes>"
      ]
     },
     "execution_count": 103,
     "metadata": {},
     "output_type": "execute_result"
    },
    {
     "data": {
      "text/plain": [
       "<matplotlib.axes._subplots.AxesSubplot at 0x1c19a0bda0>"
      ]
     },
     "execution_count": 103,
     "metadata": {},
     "output_type": "execute_result"
    },
    {
     "data": {
      "image/png": "[encoded data removed]",
      "text/plain": [
       "<Figure size 720x720 with 2 Axes>"
      ]
     },
     "metadata": {
      "needs_background": "light"
     },
     "output_type": "display_data"
    }
   ],
   "source": [
    "import matplotlib.pyplot as plt\n",
    "import seaborn as sns\n",
    "plt.figure(figsize= (10,10))\n",
    "sns.heatmap(abs(corr_matrix), \n",
    "            xticklabels=corr_matrix.columns.values,\n",
    "            yticklabels=corr_matrix.columns.values,\n",
    "            cmap= \"bone\")\n",
    "plt.show()"
   ]
  },
  {
   "cell_type": "code",
   "execution_count": 141,
   "metadata": {},
   "outputs": [],
   "source": [
    "X=data.copy()"
   ]
  },
  {
   "cell_type": "code",
   "execution_count": 142,
   "metadata": {},
   "outputs": [],
   "source": [
    "scaler = StandardScaler()\n",
    "features = ['Age', 'Income','Savings']\n",
    "X[features] = scaler.fit_transform(X[features])"
   ]
  },
  {
   "cell_type": "code",
   "execution_count": 143,
   "metadata": {
    "scrolled": true
   },
   "outputs": [
    {
     "data": {
      "text/plain": [
       "KMeans(algorithm='auto', copy_x=True, init='k-means++', max_iter=300,\n",
       "       n_clusters=5, n_init=10, n_jobs=None, precompute_distances='auto',\n",
       "       random_state=42, tol=0.0001, verbose=0)"
      ]
     },
     "execution_count": 143,
     "metadata": {},
     "output_type": "execute_result"
    },
    {
     "data": {
      "text/plain": [
       "array([2, 2, 2, 2, 1, 3, 2, 1, 1, 1, 4, 0, 0, 0, 2, 4, 2, 1, 1, 4, 0, 4,\n",
       "       2, 1, 4, 3, 3, 2, 1, 2, 2, 2, 1, 2, 0, 2, 1, 2, 0, 0, 2, 1, 3, 2,\n",
       "       2, 3, 4, 3, 0, 2, 1, 0, 3, 1, 2, 1, 0, 1, 1, 1, 1, 1, 1, 2, 2, 2,\n",
       "       1, 3, 3, 2, 2, 0, 1, 1, 0, 2, 0, 2, 2, 3, 2, 4, 2, 1, 1, 0, 0, 2,\n",
       "       2, 2, 2, 2, 3, 1, 2, 3, 0, 2, 2, 0, 0, 3, 0, 3, 0, 1, 1, 0, 0, 2,\n",
       "       1, 0, 2, 0, 0, 0, 2, 0, 3, 1, 0, 1, 1, 1, 0, 4, 2, 1, 2, 2, 0, 2,\n",
       "       0, 2, 3, 1, 4, 3, 2, 0, 1, 2, 2, 3, 2, 3, 2, 4, 2, 1, 2, 0, 1, 2,\n",
       "       1, 4, 0, 2, 1, 2, 0, 1, 2, 0, 1, 0, 1, 2, 0, 2, 1, 2, 0, 2, 1, 2,\n",
       "       2, 1, 1, 1, 2, 2, 0, 3, 3, 1, 0, 2, 2, 2, 0, 1, 2, 2, 2, 1, 3, 0,\n",
       "       1, 1, 1, 0, 2, 0, 2, 0, 2, 1, 3, 2, 1, 1, 1, 1, 2, 1, 0, 3, 0, 1,\n",
       "       2, 2, 0, 1, 0, 3, 0, 2, 2, 1, 2, 2, 1, 2, 2, 2, 0, 2, 0, 0, 3, 2,\n",
       "       2, 2, 4, 2, 0, 1, 3, 3, 3, 1, 2, 0, 1, 1, 0, 0, 2, 2, 4, 2, 2, 1,\n",
       "       2, 1, 0, 3, 2, 0, 1, 2, 1, 1, 0, 2, 1, 1, 2, 2, 1, 0, 0, 4, 0, 1,\n",
       "       1, 0, 4, 1, 1, 3, 2, 0, 0, 2, 0, 1, 1, 0, 2, 0, 1, 2, 0, 3, 2, 1,\n",
       "       0, 0, 1, 4, 4, 2, 1, 0, 2, 2, 1, 0, 1, 0, 1, 0, 1, 1, 0, 1, 0, 2,\n",
       "       0, 2, 2, 0, 0, 1, 1, 3, 3, 0, 1, 3, 1, 4, 2, 2, 2, 1, 1, 0, 0, 4,\n",
       "       0, 4, 2, 0, 3, 1, 2, 1, 3, 2, 1, 1, 2, 1, 0, 2, 4, 0, 0, 2, 1, 1,\n",
       "       1, 1, 1, 0, 0, 1, 2, 0, 2, 4, 1, 1, 2, 1, 1, 2, 1, 1, 0, 1, 2, 0,\n",
       "       3, 0, 2, 1, 0, 2, 2, 2, 1, 0, 3, 0, 2, 0, 2, 2, 3, 0, 4, 3, 0, 0,\n",
       "       1, 2, 1, 0, 1, 0, 2, 2, 1, 4, 0, 1, 0, 2, 2, 0, 2, 1, 2, 0, 2, 1,\n",
       "       2, 1, 3, 0, 0, 3, 0, 0, 1, 1, 2, 3, 2, 0, 0, 4, 3, 0, 3, 1, 0, 0,\n",
       "       2, 0, 1, 1, 3, 2, 0, 2, 2, 0, 2, 2, 2, 1, 0, 0, 2, 2, 2, 1, 0, 1,\n",
       "       1, 1, 1, 3, 1, 1, 1, 2, 2, 1, 1, 2, 3, 1, 0, 3, 0, 1, 1, 1, 1],\n",
       "      dtype=int32)"
      ]
     },
     "execution_count": 143,
     "metadata": {},
     "output_type": "execute_result"
    }
   ],
   "source": [
    "\n",
    "#k_means = KMeans(init='k-means++',n_clusters=5,n_init=10,max_iter=300,random_state=42)\n",
    "k_means = KMeans(init='k-means++', n_clusters=5, n_init=10, random_state=42)\n",
    "k_means.fit(X)\n",
    "#k_means.fit(data)\n",
    "k_means.labels_"
   ]
  },
  {
   "cell_type": "code",
   "execution_count": 151,
   "metadata": {
    "scrolled": true
   },
   "outputs": [],
   "source": [
    "#cluster_new=data.copy()\n",
    "#cluster_new['cluster_pred']=k_means.fit_predict(data)\n",
    "\n",
    "#plt.scatter(cluster_new['Income'],cluster_new['Age'],c=cluster_new['cluster_pred'],cmap='rainbow')\n",
    "#plt.xlabel('Income')\n",
    "#plt.ylabel('Age')\n",
    "#plt.show()"
   ]
  },
  {
   "cell_type": "code",
   "execution_count": 144,
   "metadata": {},
   "outputs": [
    {
     "data": {
      "text/plain": [
       "array([[-1.05018457,  0.82744102,  0.30992613,  0.6270464 ],\n",
       "       [ 1.15154089, -1.32510593,  0.32880046,  0.97016358],\n",
       "       [ 0.09192254, -0.08524639,  0.77151837, -1.00569483],\n",
       "       [-1.5528621 ,  1.46050665,  0.89689164, -1.57249636],\n",
       "       [ 1.05032044,  1.23565419,  0.0683781 ,  0.59588052]])"
      ]
     },
     "execution_count": 144,
     "metadata": {},
     "output_type": "execute_result"
    }
   ],
   "source": [
    "\n",
    "# Let's look at the centers\n",
    "k_means.cluster_centers_"
   ]
  },
  {
   "cell_type": "code",
   "execution_count": 126,
   "metadata": {},
   "outputs": [
    {
     "data": {
      "text/plain": [
       "63.09236952458268"
      ]
     },
     "execution_count": 126,
     "metadata": {},
     "output_type": "execute_result"
    }
   ],
   "source": [
    "\n",
    "# WCSS == Inertia\n",
    "k_means.inertia_"
   ]
  },
  {
   "cell_type": "code",
   "execution_count": 149,
   "metadata": {},
   "outputs": [
    {
     "data": {
      "image/png": "[encoded data removed]",
      "text/plain": [
       "<Figure size 400x300 with 1 Axes>"
      ]
     },
     "metadata": {},
     "output_type": "display_data"
    }
   ],
   "source": [
    "plt.style.use('default');\n",
    "\n",
    "sample_silhouette_values = silhouette_samples(X, k_means.labels_)\n",
    "sizes = 200*sample_silhouette_values\n",
    "\n",
    "plt.figure(figsize=(4, 3));\n",
    "plt.grid(True);\n",
    "\n",
    "plt.scatter(X.iloc[:, 0], X.iloc[:, 1], s=sizes, c=k_means.labels_)\n",
    "plt.scatter(k_means.cluster_centers_[:, 0], k_means.cluster_centers_[:, 1], marker='x', s=500, c=\"black\")\n",
    "\n",
    "plt.title(\"K-Means (Dot Size = Silhouette Distance)\", fontsize=20);\n",
    "plt.xlabel('Age', fontsize=22);\n",
    "plt.ylabel('Income', fontsize=22);\n",
    "plt.xticks(fontsize=18);\n",
    "plt.yticks(fontsize=18);\n",
    "\n"
   ]
  },
  {
   "cell_type": "code",
   "execution_count": 127,
   "metadata": {},
   "outputs": [
    {
     "data": {
      "text/plain": [
       "0.7955064331064984"
      ]
     },
     "execution_count": 127,
     "metadata": {},
     "output_type": "execute_result"
    }
   ],
   "source": [
    "silhouette_score(X, k_means.labels_)"
   ]
  },
  {
   "cell_type": "code",
   "execution_count": 128,
   "metadata": {},
   "outputs": [
    {
     "data": {
      "text/plain": [
       "SilhouetteVisualizer(ax=<matplotlib.axes._subplots.AxesSubplot object at 0x1c1a400a90>,\n",
       "                     colors=None, is_fitted='auto', model=None)"
      ]
     },
     "execution_count": 128,
     "metadata": {},
     "output_type": "execute_result"
    },
    {
     "data": {
      "image/png": "[encoded data removed]",
      "text/plain": [
       "<Figure size 432x288 with 1 Axes>"
      ]
     },
     "metadata": {
      "needs_background": "light"
     },
     "output_type": "display_data"
    },
    {
     "data": {
      "text/plain": [
       "<matplotlib.axes._subplots.AxesSubplot at 0x1c1a400a90>"
      ]
     },
     "execution_count": 128,
     "metadata": {},
     "output_type": "execute_result"
    }
   ],
   "source": [
    "visualizer = SilhouetteVisualizer(k_means)\n",
    "visualizer.fit(X)\n",
    "visualizer.poof()\n",
    "fig = visualizer.ax.get_figure()"
   ]
  },
  {
   "cell_type": "code",
   "execution_count": 129,
   "metadata": {
    "scrolled": true
   },
   "outputs": [
    {
     "name": "stderr",
     "output_type": "stream",
     "text": [
      "/Users/monalisa/anaconda3/lib/python3.7/site-packages/IPython/core/pylabtools.py:128: UserWarning: This figure includes Axes that are not compatible with tight_layout, so results might be incorrect.\n",
      "  fig.canvas.print_figure(bytes_io, **kw)\n"
     ]
    },
    {
     "data": {
      "image/png": "[encoded data removed]",
      "text/plain": [
       "<Figure size 432x288 with 2 Axes>"
      ]
     },
     "metadata": {
      "needs_background": "light"
     },
     "output_type": "display_data"
    },
    {
     "data": {
      "text/plain": [
       "<Figure size 432x288 with 0 Axes>"
      ]
     },
     "metadata": {},
     "output_type": "display_data"
    }
   ],
   "source": [
    "# Instantiate the clustering model and visualizer\n",
    "visualizer = InterclusterDistance(k_means)\n",
    "\n",
    "visualizer.fit(X) # Fit the training data to the visualizer\n",
    "visualizer.poof() # Draw/show/poof the data\n",
    "plt.savefig('/Users/monalisa/Downloads/mall-kmeans-5-tsne.png', transparent=False);"
   ]
  },
  {
   "cell_type": "code",
   "execution_count": 130,
   "metadata": {},
   "outputs": [
    {
     "data": {
      "image/png": "[encoded data removed]",
      "text/plain": [
       "<Figure size 432x288 with 1 Axes>"
      ]
     },
     "metadata": {
      "needs_background": "light"
     },
     "output_type": "display_data"
    },
    {
     "data": {
      "image/png": "[encoded data removed]",
      "text/plain": [
       "<Figure size 432x288 with 1 Axes>"
      ]
     },
     "metadata": {
      "needs_background": "light"
     },
     "output_type": "display_data"
    }
   ],
   "source": [
    "inertias = {}\n",
    "silhouettes = {}\n",
    "for k in range(2, 11):\n",
    "    kmeans = KMeans(init='k-means++', n_init=10, n_clusters=k, max_iter=1000, random_state=42).fit(X)\n",
    "    inertias[k] = kmeans.inertia_ # Inertia: Sum of distances of samples to their closest cluster center\n",
    "    silhouettes[k] = silhouette_score(X, kmeans.labels_, metric='euclidean')\n",
    "    \n",
    "\n",
    "plt.figure();\n",
    "plt.grid(True);\n",
    "plt.plot(list(inertias.keys()), list(inertias.values()));\n",
    "plt.title('K-Means, Elbow Method')\n",
    "plt.xlabel(\"Number of clusters, K\");\n",
    "plt.ylabel(\"Inertia\");\n",
    "plt.savefig('/Users/monalisa/Downloads/mall-kmeans-elbow-interia.png');\n",
    "\n",
    "\n",
    "plt.figure();\n",
    "plt.grid(True);\n",
    "plt.plot(list(silhouettes.keys()), list(silhouettes.values()));\n",
    "plt.title('K-Means, Elbow Method')\n",
    "plt.xlabel(\"Number of clusters, K\");\n",
    "plt.ylabel(\"Silhouette\");\n",
    "plt.savefig('/Users/monalisa/Downloads/mall-kmeans-elbow-silhouette.png');"
   ]
  },
  {
   "cell_type": "code",
   "execution_count": 131,
   "metadata": {},
   "outputs": [
    {
     "data": {
      "image/png": "[encoded data removed]",
      "text/plain": [
       "<Figure size 432x288 with 1 Axes>"
      ]
     },
     "metadata": {
      "needs_background": "light"
     },
     "output_type": "display_data"
    },
    {
     "data": {
      "image/png": "[encoded data removed]",
      "text/plain": [
       "<Figure size 432x288 with 1 Axes>"
      ]
     },
     "metadata": {
      "needs_background": "light"
     },
     "output_type": "display_data"
    },
    {
     "data": {
      "image/png": "[encoded data removed]",
      "text/plain": [
       "<Figure size 432x288 with 1 Axes>"
      ]
     },
     "metadata": {
      "needs_background": "light"
     },
     "output_type": "display_data"
    }
   ],
   "source": [
    "model = KMeans(init='k-means++', n_init=10, max_iter=1000, random_state=42)\n",
    "KElbowVisualizer(model, k=(2,11), metric='silhouette', timings=False).fit(X).poof();\n",
    "KElbowVisualizer(model, k=(2,11), metric='calinski_harabasz', timings=False).fit(X).poof();\n",
    "KElbowVisualizer(model, k=(2,11), metric='distortion', timings=False).fit(X).poof();"
   ]
  },
  {
   "cell_type": "code",
   "execution_count": 132,
   "metadata": {},
   "outputs": [
    {
     "data": {
      "text/plain": [
       "array([[-1.05018457,  0.82744102,  0.30992613,  0.6270464 ],\n",
       "       [ 1.15154089, -1.32510593,  0.32880046,  0.97016358],\n",
       "       [ 0.09192254, -0.08524639,  0.77151837, -1.00569483],\n",
       "       [-1.5528621 ,  1.46050665,  0.89689164, -1.57249636],\n",
       "       [ 1.05032044,  1.23565419,  0.0683781 ,  0.59588052]])"
      ]
     },
     "execution_count": 132,
     "metadata": {},
     "output_type": "execute_result"
    }
   ],
   "source": [
    "k_means.cluster_centers_"
   ]
  },
  {
   "cell_type": "code",
   "execution_count": 133,
   "metadata": {},
   "outputs": [
    {
     "name": "stdout",
     "output_type": "stream",
     "text": [
      "\n",
      "Cluster 0:\n"
     ]
    },
    {
     "data": {
      "text/html": [
       "<div>\n",
       "<style scoped>\n",
       "    .dataframe tbody tr th:only-of-type {\n",
       "        vertical-align: middle;\n",
       "    }\n",
       "\n",
       "    .dataframe tbody tr th {\n",
       "        vertical-align: top;\n",
       "    }\n",
       "\n",
       "    .dataframe thead th {\n",
       "        text-align: right;\n",
       "    }\n",
       "</style>\n",
       "<table border=\"1\" class=\"dataframe\">\n",
       "  <thead>\n",
       "    <tr style=\"text-align: right;\">\n",
       "      <th></th>\n",
       "      <th>Age</th>\n",
       "      <th>Income</th>\n",
       "      <th>SpendingScore</th>\n",
       "      <th>Savings</th>\n",
       "    </tr>\n",
       "  </thead>\n",
       "  <tbody>\n",
       "    <tr>\n",
       "      <th>454</th>\n",
       "      <td>-1.154476</td>\n",
       "      <td>0.901590</td>\n",
       "      <td>0.374242</td>\n",
       "      <td>0.069791</td>\n",
       "    </tr>\n",
       "    <tr>\n",
       "      <th>457</th>\n",
       "      <td>-0.916634</td>\n",
       "      <td>0.962051</td>\n",
       "      <td>0.286769</td>\n",
       "      <td>0.619312</td>\n",
       "    </tr>\n",
       "    <tr>\n",
       "      <th>460</th>\n",
       "      <td>-1.332858</td>\n",
       "      <td>0.697459</td>\n",
       "      <td>0.259598</td>\n",
       "      <td>0.739818</td>\n",
       "    </tr>\n",
       "    <tr>\n",
       "      <th>461</th>\n",
       "      <td>-1.035555</td>\n",
       "      <td>1.143099</td>\n",
       "      <td>0.320930</td>\n",
       "      <td>0.655710</td>\n",
       "    </tr>\n",
       "    <tr>\n",
       "      <th>463</th>\n",
       "      <td>-1.332858</td>\n",
       "      <td>0.535322</td>\n",
       "      <td>0.303596</td>\n",
       "      <td>0.705873</td>\n",
       "    </tr>\n",
       "    <tr>\n",
       "      <th>468</th>\n",
       "      <td>-1.095016</td>\n",
       "      <td>1.155169</td>\n",
       "      <td>0.311356</td>\n",
       "      <td>0.495131</td>\n",
       "    </tr>\n",
       "    <tr>\n",
       "      <th>471</th>\n",
       "      <td>-1.154476</td>\n",
       "      <td>0.714618</td>\n",
       "      <td>0.304323</td>\n",
       "      <td>1.022407</td>\n",
       "    </tr>\n",
       "    <tr>\n",
       "      <th>476</th>\n",
       "      <td>-1.035555</td>\n",
       "      <td>0.868912</td>\n",
       "      <td>0.258396</td>\n",
       "      <td>0.519625</td>\n",
       "    </tr>\n",
       "    <tr>\n",
       "      <th>477</th>\n",
       "      <td>-1.035555</td>\n",
       "      <td>0.878451</td>\n",
       "      <td>0.342435</td>\n",
       "      <td>0.613434</td>\n",
       "    </tr>\n",
       "    <tr>\n",
       "      <th>482</th>\n",
       "      <td>-1.095016</td>\n",
       "      <td>0.915078</td>\n",
       "      <td>0.287371</td>\n",
       "      <td>0.977675</td>\n",
       "    </tr>\n",
       "    <tr>\n",
       "      <th>498</th>\n",
       "      <td>-1.213937</td>\n",
       "      <td>0.626207</td>\n",
       "      <td>0.411112</td>\n",
       "      <td>0.900909</td>\n",
       "    </tr>\n",
       "    <tr>\n",
       "      <th>500</th>\n",
       "      <td>-1.332858</td>\n",
       "      <td>0.714535</td>\n",
       "      <td>0.387441</td>\n",
       "      <td>0.621787</td>\n",
       "    </tr>\n",
       "    <tr>\n",
       "      <th>mean</th>\n",
       "      <td>-1.050185</td>\n",
       "      <td>0.827441</td>\n",
       "      <td>0.309926</td>\n",
       "      <td>0.627046</td>\n",
       "    </tr>\n",
       "  </tbody>\n",
       "</table>\n",
       "</div>"
      ],
      "text/plain": [
       "           Age    Income  SpendingScore   Savings\n",
       "454  -1.154476  0.901590       0.374242  0.069791\n",
       "457  -0.916634  0.962051       0.286769  0.619312\n",
       "460  -1.332858  0.697459       0.259598  0.739818\n",
       "461  -1.035555  1.143099       0.320930  0.655710\n",
       "463  -1.332858  0.535322       0.303596  0.705873\n",
       "468  -1.095016  1.155169       0.311356  0.495131\n",
       "471  -1.154476  0.714618       0.304323  1.022407\n",
       "476  -1.035555  0.868912       0.258396  0.519625\n",
       "477  -1.035555  0.878451       0.342435  0.613434\n",
       "482  -1.095016  0.915078       0.287371  0.977675\n",
       "498  -1.213937  0.626207       0.411112  0.900909\n",
       "500  -1.332858  0.714535       0.387441  0.621787\n",
       "mean -1.050185  0.827441       0.309926  0.627046"
      ]
     },
     "execution_count": 133,
     "metadata": {},
     "output_type": "execute_result"
    },
    {
     "name": "stdout",
     "output_type": "stream",
     "text": [
      "\n",
      "Cluster 1:\n"
     ]
    },
    {
     "data": {
      "text/html": [
       "<div>\n",
       "<style scoped>\n",
       "    .dataframe tbody tr th:only-of-type {\n",
       "        vertical-align: middle;\n",
       "    }\n",
       "\n",
       "    .dataframe tbody tr th {\n",
       "        vertical-align: top;\n",
       "    }\n",
       "\n",
       "    .dataframe thead th {\n",
       "        text-align: right;\n",
       "    }\n",
       "</style>\n",
       "<table border=\"1\" class=\"dataframe\">\n",
       "  <thead>\n",
       "    <tr style=\"text-align: right;\">\n",
       "      <th></th>\n",
       "      <th>Age</th>\n",
       "      <th>Income</th>\n",
       "      <th>SpendingScore</th>\n",
       "      <th>Savings</th>\n",
       "    </tr>\n",
       "  </thead>\n",
       "  <tbody>\n",
       "    <tr>\n",
       "      <th>485</th>\n",
       "      <td>1.283406</td>\n",
       "      <td>-1.466499</td>\n",
       "      <td>0.356307</td>\n",
       "      <td>0.821470</td>\n",
       "    </tr>\n",
       "    <tr>\n",
       "      <th>486</th>\n",
       "      <td>1.342866</td>\n",
       "      <td>-1.316793</td>\n",
       "      <td>0.303693</td>\n",
       "      <td>1.132151</td>\n",
       "    </tr>\n",
       "    <tr>\n",
       "      <th>488</th>\n",
       "      <td>1.402327</td>\n",
       "      <td>-1.579355</td>\n",
       "      <td>0.327862</td>\n",
       "      <td>0.703620</td>\n",
       "    </tr>\n",
       "    <tr>\n",
       "      <th>489</th>\n",
       "      <td>1.640169</td>\n",
       "      <td>-1.341656</td>\n",
       "      <td>0.283923</td>\n",
       "      <td>0.620046</td>\n",
       "    </tr>\n",
       "    <tr>\n",
       "      <th>490</th>\n",
       "      <td>0.926643</td>\n",
       "      <td>-1.086019</td>\n",
       "      <td>0.353621</td>\n",
       "      <td>0.950770</td>\n",
       "    </tr>\n",
       "    <tr>\n",
       "      <th>493</th>\n",
       "      <td>1.402327</td>\n",
       "      <td>-1.098006</td>\n",
       "      <td>0.336968</td>\n",
       "      <td>1.109584</td>\n",
       "    </tr>\n",
       "    <tr>\n",
       "      <th>494</th>\n",
       "      <td>1.105024</td>\n",
       "      <td>-1.268291</td>\n",
       "      <td>0.342152</td>\n",
       "      <td>1.270098</td>\n",
       "    </tr>\n",
       "    <tr>\n",
       "      <th>497</th>\n",
       "      <td>1.342866</td>\n",
       "      <td>-1.244736</td>\n",
       "      <td>0.303698</td>\n",
       "      <td>0.734084</td>\n",
       "    </tr>\n",
       "    <tr>\n",
       "      <th>501</th>\n",
       "      <td>1.461787</td>\n",
       "      <td>-1.545704</td>\n",
       "      <td>0.203140</td>\n",
       "      <td>1.235201</td>\n",
       "    </tr>\n",
       "    <tr>\n",
       "      <th>502</th>\n",
       "      <td>1.283406</td>\n",
       "      <td>-1.118447</td>\n",
       "      <td>0.355149</td>\n",
       "      <td>0.855313</td>\n",
       "    </tr>\n",
       "    <tr>\n",
       "      <th>503</th>\n",
       "      <td>1.342866</td>\n",
       "      <td>-1.524929</td>\n",
       "      <td>0.354679</td>\n",
       "      <td>1.322452</td>\n",
       "    </tr>\n",
       "    <tr>\n",
       "      <th>504</th>\n",
       "      <td>1.223945</td>\n",
       "      <td>-1.258335</td>\n",
       "      <td>0.289310</td>\n",
       "      <td>0.510463</td>\n",
       "    </tr>\n",
       "    <tr>\n",
       "      <th>mean</th>\n",
       "      <td>1.151541</td>\n",
       "      <td>-1.325106</td>\n",
       "      <td>0.328800</td>\n",
       "      <td>0.970164</td>\n",
       "    </tr>\n",
       "  </tbody>\n",
       "</table>\n",
       "</div>"
      ],
      "text/plain": [
       "           Age    Income  SpendingScore   Savings\n",
       "485   1.283406 -1.466499       0.356307  0.821470\n",
       "486   1.342866 -1.316793       0.303693  1.132151\n",
       "488   1.402327 -1.579355       0.327862  0.703620\n",
       "489   1.640169 -1.341656       0.283923  0.620046\n",
       "490   0.926643 -1.086019       0.353621  0.950770\n",
       "493   1.402327 -1.098006       0.336968  1.109584\n",
       "494   1.105024 -1.268291       0.342152  1.270098\n",
       "497   1.342866 -1.244736       0.303698  0.734084\n",
       "501   1.461787 -1.545704       0.203140  1.235201\n",
       "502   1.283406 -1.118447       0.355149  0.855313\n",
       "503   1.342866 -1.524929       0.354679  1.322452\n",
       "504   1.223945 -1.258335       0.289310  0.510463\n",
       "mean  1.151541 -1.325106       0.328800  0.970164"
      ]
     },
     "execution_count": 133,
     "metadata": {},
     "output_type": "execute_result"
    },
    {
     "name": "stdout",
     "output_type": "stream",
     "text": [
      "\n",
      "Cluster 2:\n"
     ]
    },
    {
     "data": {
      "text/html": [
       "<div>\n",
       "<style scoped>\n",
       "    .dataframe tbody tr th:only-of-type {\n",
       "        vertical-align: middle;\n",
       "    }\n",
       "\n",
       "    .dataframe tbody tr th {\n",
       "        vertical-align: top;\n",
       "    }\n",
       "\n",
       "    .dataframe thead th {\n",
       "        text-align: right;\n",
       "    }\n",
       "</style>\n",
       "<table border=\"1\" class=\"dataframe\">\n",
       "  <thead>\n",
       "    <tr style=\"text-align: right;\">\n",
       "      <th></th>\n",
       "      <th>Age</th>\n",
       "      <th>Income</th>\n",
       "      <th>SpendingScore</th>\n",
       "      <th>Savings</th>\n",
       "    </tr>\n",
       "  </thead>\n",
       "  <tbody>\n",
       "    <tr>\n",
       "      <th>467</th>\n",
       "      <td>0.153655</td>\n",
       "      <td>-0.096957</td>\n",
       "      <td>0.762325</td>\n",
       "      <td>-0.998383</td>\n",
       "    </tr>\n",
       "    <tr>\n",
       "      <th>469</th>\n",
       "      <td>0.272577</td>\n",
       "      <td>-0.137199</td>\n",
       "      <td>0.766509</td>\n",
       "      <td>-0.930429</td>\n",
       "    </tr>\n",
       "    <tr>\n",
       "      <th>470</th>\n",
       "      <td>-0.024726</td>\n",
       "      <td>-0.134529</td>\n",
       "      <td>0.764028</td>\n",
       "      <td>-0.849062</td>\n",
       "    </tr>\n",
       "    <tr>\n",
       "      <th>472</th>\n",
       "      <td>0.213116</td>\n",
       "      <td>-0.051124</td>\n",
       "      <td>0.796619</td>\n",
       "      <td>-1.450915</td>\n",
       "    </tr>\n",
       "    <tr>\n",
       "      <th>473</th>\n",
       "      <td>0.094195</td>\n",
       "      <td>-0.334767</td>\n",
       "      <td>0.751900</td>\n",
       "      <td>-0.873509</td>\n",
       "    </tr>\n",
       "    <tr>\n",
       "      <th>474</th>\n",
       "      <td>0.213116</td>\n",
       "      <td>-0.216432</td>\n",
       "      <td>0.819170</td>\n",
       "      <td>-1.194480</td>\n",
       "    </tr>\n",
       "    <tr>\n",
       "      <th>478</th>\n",
       "      <td>0.391498</td>\n",
       "      <td>-0.141370</td>\n",
       "      <td>0.696994</td>\n",
       "      <td>-0.989273</td>\n",
       "    </tr>\n",
       "    <tr>\n",
       "      <th>479</th>\n",
       "      <td>0.034734</td>\n",
       "      <td>-0.169793</td>\n",
       "      <td>0.879906</td>\n",
       "      <td>-1.086232</td>\n",
       "    </tr>\n",
       "    <tr>\n",
       "      <th>480</th>\n",
       "      <td>0.391498</td>\n",
       "      <td>-0.119150</td>\n",
       "      <td>0.787890</td>\n",
       "      <td>-0.574015</td>\n",
       "    </tr>\n",
       "    <tr>\n",
       "      <th>491</th>\n",
       "      <td>-0.024726</td>\n",
       "      <td>-0.143067</td>\n",
       "      <td>0.904520</td>\n",
       "      <td>-0.890089</td>\n",
       "    </tr>\n",
       "    <tr>\n",
       "      <th>492</th>\n",
       "      <td>0.153655</td>\n",
       "      <td>-0.034243</td>\n",
       "      <td>0.692236</td>\n",
       "      <td>-0.925445</td>\n",
       "    </tr>\n",
       "    <tr>\n",
       "      <th>495</th>\n",
       "      <td>0.450958</td>\n",
       "      <td>0.042793</td>\n",
       "      <td>0.707262</td>\n",
       "      <td>-1.125742</td>\n",
       "    </tr>\n",
       "    <tr>\n",
       "      <th>mean</th>\n",
       "      <td>0.091923</td>\n",
       "      <td>-0.085246</td>\n",
       "      <td>0.771518</td>\n",
       "      <td>-1.005695</td>\n",
       "    </tr>\n",
       "  </tbody>\n",
       "</table>\n",
       "</div>"
      ],
      "text/plain": [
       "           Age    Income  SpendingScore   Savings\n",
       "467   0.153655 -0.096957       0.762325 -0.998383\n",
       "469   0.272577 -0.137199       0.766509 -0.930429\n",
       "470  -0.024726 -0.134529       0.764028 -0.849062\n",
       "472   0.213116 -0.051124       0.796619 -1.450915\n",
       "473   0.094195 -0.334767       0.751900 -0.873509\n",
       "474   0.213116 -0.216432       0.819170 -1.194480\n",
       "478   0.391498 -0.141370       0.696994 -0.989273\n",
       "479   0.034734 -0.169793       0.879906 -1.086232\n",
       "480   0.391498 -0.119150       0.787890 -0.574015\n",
       "491  -0.024726 -0.143067       0.904520 -0.890089\n",
       "492   0.153655 -0.034243       0.692236 -0.925445\n",
       "495   0.450958  0.042793       0.707262 -1.125742\n",
       "mean  0.091923 -0.085246       0.771518 -1.005695"
      ]
     },
     "execution_count": 133,
     "metadata": {},
     "output_type": "execute_result"
    },
    {
     "name": "stdout",
     "output_type": "stream",
     "text": [
      "\n",
      "Cluster 3:\n"
     ]
    },
    {
     "data": {
      "text/html": [
       "<div>\n",
       "<style scoped>\n",
       "    .dataframe tbody tr th:only-of-type {\n",
       "        vertical-align: middle;\n",
       "    }\n",
       "\n",
       "    .dataframe tbody tr th {\n",
       "        vertical-align: top;\n",
       "    }\n",
       "\n",
       "    .dataframe thead th {\n",
       "        text-align: right;\n",
       "    }\n",
       "</style>\n",
       "<table border=\"1\" class=\"dataframe\">\n",
       "  <thead>\n",
       "    <tr style=\"text-align: right;\">\n",
       "      <th></th>\n",
       "      <th>Age</th>\n",
       "      <th>Income</th>\n",
       "      <th>SpendingScore</th>\n",
       "      <th>Savings</th>\n",
       "    </tr>\n",
       "  </thead>\n",
       "  <tbody>\n",
       "    <tr>\n",
       "      <th>406</th>\n",
       "      <td>-1.511240</td>\n",
       "      <td>1.263825</td>\n",
       "      <td>0.877673</td>\n",
       "      <td>-1.268526</td>\n",
       "    </tr>\n",
       "    <tr>\n",
       "      <th>412</th>\n",
       "      <td>-1.749082</td>\n",
       "      <td>1.507698</td>\n",
       "      <td>0.951792</td>\n",
       "      <td>-1.478797</td>\n",
       "    </tr>\n",
       "    <tr>\n",
       "      <th>415</th>\n",
       "      <td>-1.451779</td>\n",
       "      <td>1.394675</td>\n",
       "      <td>0.926818</td>\n",
       "      <td>-1.167596</td>\n",
       "    </tr>\n",
       "    <tr>\n",
       "      <th>442</th>\n",
       "      <td>-1.927464</td>\n",
       "      <td>1.689275</td>\n",
       "      <td>0.935876</td>\n",
       "      <td>-1.564668</td>\n",
       "    </tr>\n",
       "    <tr>\n",
       "      <th>445</th>\n",
       "      <td>-1.570700</td>\n",
       "      <td>1.250143</td>\n",
       "      <td>0.907485</td>\n",
       "      <td>-1.420640</td>\n",
       "    </tr>\n",
       "    <tr>\n",
       "      <th>451</th>\n",
       "      <td>-1.392319</td>\n",
       "      <td>1.311493</td>\n",
       "      <td>0.910107</td>\n",
       "      <td>-1.548476</td>\n",
       "    </tr>\n",
       "    <tr>\n",
       "      <th>456</th>\n",
       "      <td>-1.927464</td>\n",
       "      <td>1.343670</td>\n",
       "      <td>0.942013</td>\n",
       "      <td>-1.630882</td>\n",
       "    </tr>\n",
       "    <tr>\n",
       "      <th>458</th>\n",
       "      <td>-1.332858</td>\n",
       "      <td>1.451326</td>\n",
       "      <td>0.881425</td>\n",
       "      <td>-1.288677</td>\n",
       "    </tr>\n",
       "    <tr>\n",
       "      <th>466</th>\n",
       "      <td>-1.868003</td>\n",
       "      <td>1.340611</td>\n",
       "      <td>0.806553</td>\n",
       "      <td>-1.505162</td>\n",
       "    </tr>\n",
       "    <tr>\n",
       "      <th>487</th>\n",
       "      <td>-1.451779</td>\n",
       "      <td>1.320782</td>\n",
       "      <td>0.984526</td>\n",
       "      <td>-1.515115</td>\n",
       "    </tr>\n",
       "    <tr>\n",
       "      <th>496</th>\n",
       "      <td>-1.689621</td>\n",
       "      <td>1.597305</td>\n",
       "      <td>0.889800</td>\n",
       "      <td>-1.824853</td>\n",
       "    </tr>\n",
       "    <tr>\n",
       "      <th>499</th>\n",
       "      <td>-1.511240</td>\n",
       "      <td>1.477079</td>\n",
       "      <td>0.816739</td>\n",
       "      <td>-1.405315</td>\n",
       "    </tr>\n",
       "    <tr>\n",
       "      <th>mean</th>\n",
       "      <td>-1.552862</td>\n",
       "      <td>1.460507</td>\n",
       "      <td>0.896892</td>\n",
       "      <td>-1.572496</td>\n",
       "    </tr>\n",
       "  </tbody>\n",
       "</table>\n",
       "</div>"
      ],
      "text/plain": [
       "           Age    Income  SpendingScore   Savings\n",
       "406  -1.511240  1.263825       0.877673 -1.268526\n",
       "412  -1.749082  1.507698       0.951792 -1.478797\n",
       "415  -1.451779  1.394675       0.926818 -1.167596\n",
       "442  -1.927464  1.689275       0.935876 -1.564668\n",
       "445  -1.570700  1.250143       0.907485 -1.420640\n",
       "451  -1.392319  1.311493       0.910107 -1.548476\n",
       "456  -1.927464  1.343670       0.942013 -1.630882\n",
       "458  -1.332858  1.451326       0.881425 -1.288677\n",
       "466  -1.868003  1.340611       0.806553 -1.505162\n",
       "487  -1.451779  1.320782       0.984526 -1.515115\n",
       "496  -1.689621  1.597305       0.889800 -1.824853\n",
       "499  -1.511240  1.477079       0.816739 -1.405315\n",
       "mean -1.552862  1.460507       0.896892 -1.572496"
      ]
     },
     "execution_count": 133,
     "metadata": {},
     "output_type": "execute_result"
    },
    {
     "name": "stdout",
     "output_type": "stream",
     "text": [
      "\n",
      "Cluster 4:\n"
     ]
    },
    {
     "data": {
      "text/html": [
       "<div>\n",
       "<style scoped>\n",
       "    .dataframe tbody tr th:only-of-type {\n",
       "        vertical-align: middle;\n",
       "    }\n",
       "\n",
       "    .dataframe tbody tr th {\n",
       "        vertical-align: top;\n",
       "    }\n",
       "\n",
       "    .dataframe thead th {\n",
       "        text-align: right;\n",
       "    }\n",
       "</style>\n",
       "<table border=\"1\" class=\"dataframe\">\n",
       "  <thead>\n",
       "    <tr style=\"text-align: right;\">\n",
       "      <th></th>\n",
       "      <th>Age</th>\n",
       "      <th>Income</th>\n",
       "      <th>SpendingScore</th>\n",
       "      <th>Savings</th>\n",
       "    </tr>\n",
       "  </thead>\n",
       "  <tbody>\n",
       "    <tr>\n",
       "      <th>283</th>\n",
       "      <td>1.283406</td>\n",
       "      <td>1.353181</td>\n",
       "      <td>0.030751</td>\n",
       "      <td>0.588746</td>\n",
       "    </tr>\n",
       "    <tr>\n",
       "      <th>288</th>\n",
       "      <td>0.867182</td>\n",
       "      <td>1.163428</td>\n",
       "      <td>0.155694</td>\n",
       "      <td>0.652110</td>\n",
       "    </tr>\n",
       "    <tr>\n",
       "      <th>311</th>\n",
       "      <td>0.986103</td>\n",
       "      <td>1.186289</td>\n",
       "      <td>0.123196</td>\n",
       "      <td>0.605440</td>\n",
       "    </tr>\n",
       "    <tr>\n",
       "      <th>312</th>\n",
       "      <td>1.164485</td>\n",
       "      <td>1.091677</td>\n",
       "      <td>0.032208</td>\n",
       "      <td>1.207573</td>\n",
       "    </tr>\n",
       "    <tr>\n",
       "      <th>343</th>\n",
       "      <td>0.926643</td>\n",
       "      <td>1.104748</td>\n",
       "      <td>0.068778</td>\n",
       "      <td>0.512529</td>\n",
       "    </tr>\n",
       "    <tr>\n",
       "      <th>351</th>\n",
       "      <td>1.342866</td>\n",
       "      <td>1.203671</td>\n",
       "      <td>0.019212</td>\n",
       "      <td>0.441907</td>\n",
       "    </tr>\n",
       "    <tr>\n",
       "      <th>353</th>\n",
       "      <td>0.629340</td>\n",
       "      <td>1.476272</td>\n",
       "      <td>0.040824</td>\n",
       "      <td>0.534138</td>\n",
       "    </tr>\n",
       "    <tr>\n",
       "      <th>368</th>\n",
       "      <td>0.926643</td>\n",
       "      <td>0.975288</td>\n",
       "      <td>0.079049</td>\n",
       "      <td>0.622034</td>\n",
       "    </tr>\n",
       "    <tr>\n",
       "      <th>383</th>\n",
       "      <td>1.105024</td>\n",
       "      <td>1.169463</td>\n",
       "      <td>0.128280</td>\n",
       "      <td>0.432373</td>\n",
       "    </tr>\n",
       "    <tr>\n",
       "      <th>414</th>\n",
       "      <td>1.164485</td>\n",
       "      <td>1.338748</td>\n",
       "      <td>0.029027</td>\n",
       "      <td>0.332122</td>\n",
       "    </tr>\n",
       "    <tr>\n",
       "      <th>427</th>\n",
       "      <td>1.045564</td>\n",
       "      <td>1.358799</td>\n",
       "      <td>0.000000</td>\n",
       "      <td>0.710311</td>\n",
       "    </tr>\n",
       "    <tr>\n",
       "      <th>455</th>\n",
       "      <td>1.461787</td>\n",
       "      <td>1.420790</td>\n",
       "      <td>0.025170</td>\n",
       "      <td>0.456077</td>\n",
       "    </tr>\n",
       "    <tr>\n",
       "      <th>mean</th>\n",
       "      <td>1.050320</td>\n",
       "      <td>1.235654</td>\n",
       "      <td>0.068378</td>\n",
       "      <td>0.595881</td>\n",
       "    </tr>\n",
       "  </tbody>\n",
       "</table>\n",
       "</div>"
      ],
      "text/plain": [
       "           Age    Income  SpendingScore   Savings\n",
       "283   1.283406  1.353181       0.030751  0.588746\n",
       "288   0.867182  1.163428       0.155694  0.652110\n",
       "311   0.986103  1.186289       0.123196  0.605440\n",
       "312   1.164485  1.091677       0.032208  1.207573\n",
       "343   0.926643  1.104748       0.068778  0.512529\n",
       "351   1.342866  1.203671       0.019212  0.441907\n",
       "353   0.629340  1.476272       0.040824  0.534138\n",
       "368   0.926643  0.975288       0.079049  0.622034\n",
       "383   1.105024  1.169463       0.128280  0.432373\n",
       "414   1.164485  1.338748       0.029027  0.332122\n",
       "427   1.045564  1.358799       0.000000  0.710311\n",
       "455   1.461787  1.420790       0.025170  0.456077\n",
       "mean  1.050320  1.235654       0.068378  0.595881"
      ]
     },
     "execution_count": 133,
     "metadata": {},
     "output_type": "execute_result"
    }
   ],
   "source": [
    "for label in set(k_means.labels_):\n",
    "    print('\\nCluster {}:'.format(label))\n",
    "    X_tmp = X[k_means.labels_==label].copy()\n",
    "    X_tmp.loc['mean'] = X_tmp.mean()\n",
    "    X_tmp.tail(13)"
   ]
  },
  {
   "cell_type": "code",
   "execution_count": 134,
   "metadata": {},
   "outputs": [
    {
     "name": "stdout",
     "output_type": "stream",
     "text": [
      "\n",
      "Cluster 0:\n"
     ]
    },
    {
     "data": {
      "text/html": [
       "<div>\n",
       "<style scoped>\n",
       "    .dataframe tbody tr th:only-of-type {\n",
       "        vertical-align: middle;\n",
       "    }\n",
       "\n",
       "    .dataframe tbody tr th {\n",
       "        vertical-align: top;\n",
       "    }\n",
       "\n",
       "    .dataframe thead th {\n",
       "        text-align: right;\n",
       "    }\n",
       "</style>\n",
       "<table border=\"1\" class=\"dataframe\">\n",
       "  <thead>\n",
       "    <tr style=\"text-align: right;\">\n",
       "      <th></th>\n",
       "      <th>477</th>\n",
       "    </tr>\n",
       "  </thead>\n",
       "  <tbody>\n",
       "    <tr>\n",
       "      <th>Age</th>\n",
       "      <td>-1.035555</td>\n",
       "    </tr>\n",
       "    <tr>\n",
       "      <th>Income</th>\n",
       "      <td>0.878451</td>\n",
       "    </tr>\n",
       "    <tr>\n",
       "      <th>SpendingScore</th>\n",
       "      <td>0.342435</td>\n",
       "    </tr>\n",
       "    <tr>\n",
       "      <th>Savings</th>\n",
       "      <td>0.613434</td>\n",
       "    </tr>\n",
       "  </tbody>\n",
       "</table>\n",
       "</div>"
      ],
      "text/plain": [
       "                    477\n",
       "Age           -1.035555\n",
       "Income         0.878451\n",
       "SpendingScore  0.342435\n",
       "Savings        0.613434"
      ]
     },
     "execution_count": 134,
     "metadata": {},
     "output_type": "execute_result"
    },
    {
     "name": "stdout",
     "output_type": "stream",
     "text": [
      "\n",
      "Cluster 1:\n"
     ]
    },
    {
     "data": {
      "text/html": [
       "<div>\n",
       "<style scoped>\n",
       "    .dataframe tbody tr th:only-of-type {\n",
       "        vertical-align: middle;\n",
       "    }\n",
       "\n",
       "    .dataframe tbody tr th {\n",
       "        vertical-align: top;\n",
       "    }\n",
       "\n",
       "    .dataframe thead th {\n",
       "        text-align: right;\n",
       "    }\n",
       "</style>\n",
       "<table border=\"1\" class=\"dataframe\">\n",
       "  <thead>\n",
       "    <tr style=\"text-align: right;\">\n",
       "      <th></th>\n",
       "      <th>178</th>\n",
       "    </tr>\n",
       "  </thead>\n",
       "  <tbody>\n",
       "    <tr>\n",
       "      <th>Age</th>\n",
       "      <td>1.164485</td>\n",
       "    </tr>\n",
       "    <tr>\n",
       "      <th>Income</th>\n",
       "      <td>-1.305113</td>\n",
       "    </tr>\n",
       "    <tr>\n",
       "      <th>SpendingScore</th>\n",
       "      <td>0.397740</td>\n",
       "    </tr>\n",
       "    <tr>\n",
       "      <th>Savings</th>\n",
       "      <td>0.983630</td>\n",
       "    </tr>\n",
       "  </tbody>\n",
       "</table>\n",
       "</div>"
      ],
      "text/plain": [
       "                    178\n",
       "Age            1.164485\n",
       "Income        -1.305113\n",
       "SpendingScore  0.397740\n",
       "Savings        0.983630"
      ]
     },
     "execution_count": 134,
     "metadata": {},
     "output_type": "execute_result"
    },
    {
     "name": "stdout",
     "output_type": "stream",
     "text": [
      "\n",
      "Cluster 2:\n"
     ]
    },
    {
     "data": {
      "text/html": [
       "<div>\n",
       "<style scoped>\n",
       "    .dataframe tbody tr th:only-of-type {\n",
       "        vertical-align: middle;\n",
       "    }\n",
       "\n",
       "    .dataframe tbody tr th {\n",
       "        vertical-align: top;\n",
       "    }\n",
       "\n",
       "    .dataframe thead th {\n",
       "        text-align: right;\n",
       "    }\n",
       "</style>\n",
       "<table border=\"1\" class=\"dataframe\">\n",
       "  <thead>\n",
       "    <tr style=\"text-align: right;\">\n",
       "      <th></th>\n",
       "      <th>467</th>\n",
       "    </tr>\n",
       "  </thead>\n",
       "  <tbody>\n",
       "    <tr>\n",
       "      <th>Age</th>\n",
       "      <td>0.153655</td>\n",
       "    </tr>\n",
       "    <tr>\n",
       "      <th>Income</th>\n",
       "      <td>-0.096957</td>\n",
       "    </tr>\n",
       "    <tr>\n",
       "      <th>SpendingScore</th>\n",
       "      <td>0.762325</td>\n",
       "    </tr>\n",
       "    <tr>\n",
       "      <th>Savings</th>\n",
       "      <td>-0.998383</td>\n",
       "    </tr>\n",
       "  </tbody>\n",
       "</table>\n",
       "</div>"
      ],
      "text/plain": [
       "                    467\n",
       "Age            0.153655\n",
       "Income        -0.096957\n",
       "SpendingScore  0.762325\n",
       "Savings       -0.998383"
      ]
     },
     "execution_count": 134,
     "metadata": {},
     "output_type": "execute_result"
    },
    {
     "name": "stdout",
     "output_type": "stream",
     "text": [
      "\n",
      "Cluster 3:\n"
     ]
    },
    {
     "data": {
      "text/html": [
       "<div>\n",
       "<style scoped>\n",
       "    .dataframe tbody tr th:only-of-type {\n",
       "        vertical-align: middle;\n",
       "    }\n",
       "\n",
       "    .dataframe tbody tr th {\n",
       "        vertical-align: top;\n",
       "    }\n",
       "\n",
       "    .dataframe thead th {\n",
       "        text-align: right;\n",
       "    }\n",
       "</style>\n",
       "<table border=\"1\" class=\"dataframe\">\n",
       "  <thead>\n",
       "    <tr style=\"text-align: right;\">\n",
       "      <th></th>\n",
       "      <th>217</th>\n",
       "    </tr>\n",
       "  </thead>\n",
       "  <tbody>\n",
       "    <tr>\n",
       "      <th>Age</th>\n",
       "      <td>-1.630161</td>\n",
       "    </tr>\n",
       "    <tr>\n",
       "      <th>Income</th>\n",
       "      <td>1.513566</td>\n",
       "    </tr>\n",
       "    <tr>\n",
       "      <th>SpendingScore</th>\n",
       "      <td>0.872736</td>\n",
       "    </tr>\n",
       "    <tr>\n",
       "      <th>Savings</th>\n",
       "      <td>-1.569555</td>\n",
       "    </tr>\n",
       "  </tbody>\n",
       "</table>\n",
       "</div>"
      ],
      "text/plain": [
       "                    217\n",
       "Age           -1.630161\n",
       "Income         1.513566\n",
       "SpendingScore  0.872736\n",
       "Savings       -1.569555"
      ]
     },
     "execution_count": 134,
     "metadata": {},
     "output_type": "execute_result"
    },
    {
     "name": "stdout",
     "output_type": "stream",
     "text": [
      "\n",
      "Cluster 4:\n"
     ]
    },
    {
     "data": {
      "text/html": [
       "<div>\n",
       "<style scoped>\n",
       "    .dataframe tbody tr th:only-of-type {\n",
       "        vertical-align: middle;\n",
       "    }\n",
       "\n",
       "    .dataframe tbody tr th {\n",
       "        vertical-align: top;\n",
       "    }\n",
       "\n",
       "    .dataframe thead th {\n",
       "        text-align: right;\n",
       "    }\n",
       "</style>\n",
       "<table border=\"1\" class=\"dataframe\">\n",
       "  <thead>\n",
       "    <tr style=\"text-align: right;\">\n",
       "      <th></th>\n",
       "      <th>311</th>\n",
       "    </tr>\n",
       "  </thead>\n",
       "  <tbody>\n",
       "    <tr>\n",
       "      <th>Age</th>\n",
       "      <td>0.986103</td>\n",
       "    </tr>\n",
       "    <tr>\n",
       "      <th>Income</th>\n",
       "      <td>1.186289</td>\n",
       "    </tr>\n",
       "    <tr>\n",
       "      <th>SpendingScore</th>\n",
       "      <td>0.123196</td>\n",
       "    </tr>\n",
       "    <tr>\n",
       "      <th>Savings</th>\n",
       "      <td>0.605440</td>\n",
       "    </tr>\n",
       "  </tbody>\n",
       "</table>\n",
       "</div>"
      ],
      "text/plain": [
       "                    311\n",
       "Age            0.986103\n",
       "Income         1.186289\n",
       "SpendingScore  0.123196\n",
       "Savings        0.605440"
      ]
     },
     "execution_count": 134,
     "metadata": {},
     "output_type": "execute_result"
    }
   ],
   "source": [
    "from scipy.spatial import distance\n",
    "\n",
    "for i, label in enumerate(set(k_means.labels_)):    \n",
    "    X_tmp = X[k_means.labels_==label].copy()\n",
    "    \n",
    "    exemplar_idx = distance.cdist([k_means.cluster_centers_[i]], X_tmp).argmin()\n",
    "    exemplar = pd.DataFrame(X_tmp.iloc[exemplar_idx])\n",
    "   \n",
    "    print('\\nCluster {}:'.format(label))\n",
    "    exemplar"
   ]
  },
  {
   "cell_type": "code",
   "execution_count": 138,
   "metadata": {},
   "outputs": [
    {
     "data": {
      "text/plain": [
       "Text(0.5, 1.0, 'Snake Plot, K-Means, K=5')"
      ]
     },
     "execution_count": 138,
     "metadata": {},
     "output_type": "execute_result"
    },
    {
     "data": {
      "text/plain": [
       "<matplotlib.axes._subplots.AxesSubplot at 0x1c1d997198>"
      ]
     },
     "execution_count": 138,
     "metadata": {},
     "output_type": "execute_result"
    },
    {
     "data": {
      "image/png": "[encoded data removed]",
      "text/plain": [
       "<Figure size 432x288 with 1 Axes>"
      ]
     },
     "metadata": {
      "needs_background": "light"
     },
     "output_type": "display_data"
    }
   ],
   "source": [
    "dat = X.copy()\n",
    "\n",
    "dat['Cluster'] = k_means.labels_\n",
    "\n",
    "datamart_melt = pd.melt(dat.reset_index(),\n",
    "id_vars=['Cluster'],\n",
    "value_vars=['Age','Income','Savings','SpendingScore'],\n",
    "var_name='Feature',\n",
    "value_name='Value')\n",
    "\n",
    "plt.title('Snake Plot, K-Means, K=5')\n",
    "sns.lineplot(x=\"Feature\", y=\"Value\", hue='Cluster', data=datamart_melt)\n"
   ]
  },
  {
   "cell_type": "code",
   "execution_count": 137,
   "metadata": {},
   "outputs": [
    {
     "data": {
      "image/png": "[encoded data removed]",
      "text/plain": [
       "<Figure size 576x144 with 2 Axes>"
      ]
     },
     "metadata": {
      "needs_background": "light"
     },
     "output_type": "display_data"
    }
   ],
   "source": [
    "cluster_avg = dat.groupby(['Cluster']).mean()\n",
    "population_avg = dat.drop(['Cluster'], axis=1).mean()\n",
    "\n",
    "relative_imp = cluster_avg - population_avg\n",
    "\n",
    "plt.figure(figsize=(8, 2));\n",
    "plt.title('Relative importance of features');\n",
    "sns.heatmap(data=relative_imp, annot=True, fmt='.2f', cmap='RdYlGn');\n"
   ]
  },
  {
   "cell_type": "code",
   "execution_count": null,
   "metadata": {},
   "outputs": [],
   "source": []
  }
 ],
 "metadata": {
  "kernelspec": {
   "display_name": "Python 3",
   "language": "python",
   "name": "python3"
  },
  "language_info": {
   "codemirror_mode": {
    "name": "ipython",
    "version": 3
   },
   "file_extension": ".py",
   "mimetype": "text/x-python",
   "name": "python",
   "nbconvert_exporter": "python",
   "pygments_lexer": "ipython3",
   "version": "3.7.3"
  }
 },
 "nbformat": 4,
 "nbformat_minor": 2
}
