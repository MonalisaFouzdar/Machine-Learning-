{
 "cells": [
  {
   "cell_type": "code",
   "execution_count": 127,
   "metadata": {},
   "outputs": [],
   "source": [
    "import pandas as pd\n",
    "import numpy as np\n",
    "import matplotlib.pyplot as plt\n",
    "import matplotlib as mpl\n",
    "import sklearn.metrics\n",
    "from sklearn.preprocessing import StandardScaler\n",
    "import itertools\n",
    "import scipy\n",
    "from IPython.core.interactiveshell import InteractiveShell\n",
    "InteractiveShell.ast_node_interactivity = \"all\""
   ]
  },
  {
   "cell_type": "code",
   "execution_count": 128,
   "metadata": {},
   "outputs": [
    {
     "name": "stdout",
     "output_type": "stream",
     "text": [
      "The scikit-learn version is 0.21.2.\n"
     ]
    }
   ],
   "source": [
    "import sklearn\n",
    "print('The scikit-learn version is {}.'.format(sklearn.__version__))\n"
   ]
  },
  {
   "cell_type": "code",
   "execution_count": 129,
   "metadata": {
    "scrolled": true
   },
   "outputs": [],
   "source": [
    "%matplotlib inline\n",
    "data_url=\"/Users/monalisa/Downloads/OJ.csv\"\n",
    "data=pd.read_csv(data_url)"
   ]
  },
  {
   "cell_type": "code",
   "execution_count": 64,
   "metadata": {},
   "outputs": [],
   "source": [
    "# target(PURCHASE) distribution\n",
    "l = data[\"Purchase\"].value_counts()"
   ]
  },
  {
   "cell_type": "code",
   "execution_count": 65,
   "metadata": {},
   "outputs": [
    {
     "name": "stdout",
     "output_type": "stream",
     "text": [
      "precentage of purchase in the dataset is 38.97\n"
     ]
    }
   ],
   "source": [
    "purchase_pct = l[1]/len(data) *100\n",
    "print (f\"precentage of purchase in the dataset is {purchase_pct:.2f}\")"
   ]
  },
  {
   "cell_type": "code",
   "execution_count": 66,
   "metadata": {},
   "outputs": [
    {
     "data": {
      "image/png": "[encoded data removed]",
      "text/plain": [
       "<Figure size 432x288 with 1 Axes>"
      ]
     },
     "metadata": {
      "needs_background": "light"
     },
     "output_type": "display_data"
    }
   ],
   "source": [
    "import seaborn as sns\n",
    "ax= sns.boxplot(x=\"PriceDiff\", y=\"Purchase\", data=data)"
   ]
  },
  {
   "cell_type": "code",
   "execution_count": 130,
   "metadata": {
    "scrolled": true
   },
   "outputs": [],
   "source": [
    "# dropping passed values \n",
    "data.drop([\"Unnamed: 0\",\"Store7\", \"STORE\"], axis = 1, inplace = True)"
   ]
  },
  {
   "cell_type": "code",
   "execution_count": 131,
   "metadata": {},
   "outputs": [],
   "source": [
    "#X=data.iloc[:, 1:16].values\n",
    "#y=data.iloc[:, 0].values\n",
    "X=data.iloc[:, 1:16]\n",
    "y=data.iloc[:, 0]"
   ]
  },
  {
   "cell_type": "code",
   "execution_count": 132,
   "metadata": {},
   "outputs": [],
   "source": [
    "#Encoding categorical data\n",
    "from sklearn.preprocessing import LabelEncoder\n",
    "le_y=LabelEncoder()\n",
    "y=le_y.fit_transform(y)"
   ]
  },
  {
   "cell_type": "code",
   "execution_count": 133,
   "metadata": {},
   "outputs": [],
   "source": [
    "X=pd.get_dummies(X,columns=[\"StoreID\"])"
   ]
  },
  {
   "cell_type": "code",
   "execution_count": 71,
   "metadata": {},
   "outputs": [
    {
     "data": {
      "text/plain": [
       "(1070, 19)"
      ]
     },
     "execution_count": 71,
     "metadata": {},
     "output_type": "execute_result"
    }
   ],
   "source": [
    "X.shape"
   ]
  },
  {
   "cell_type": "code",
   "execution_count": 72,
   "metadata": {},
   "outputs": [
    {
     "data": {
      "text/plain": [
       "Purchase          1.000000\n",
       "SpecialMM         0.174784\n",
       "DiscMM            0.166921\n",
       "PctDiscMM         0.166459\n",
       "SalePriceCH       0.132126\n",
       "PriceCH          -0.023021\n",
       "WeekofPurchase   -0.125572\n",
       "SpecialCH        -0.132751\n",
       "PriceMM          -0.149180\n",
       "ListPriceDiff    -0.164599\n",
       "DiscCH           -0.181249\n",
       "PctDiscCH        -0.182201\n",
       "SalePriceMM      -0.220584\n",
       "StoreID          -0.252625\n",
       "PriceDiff        -0.275022\n",
       "LoyalCH          -0.640582\n",
       "Name: Purchase, dtype: float64"
      ]
     },
     "execution_count": 72,
     "metadata": {},
     "output_type": "execute_result"
    }
   ],
   "source": [
    "#Corrolation of numeric features\n",
    "data['Purchase'] =data['Purchase'].astype('category').cat.codes\n",
    "corr_matrix = data.corr()\n",
    "corr_matrix[\"Purchase\"].sort_values(ascending=False)"
   ]
  },
  {
   "cell_type": "code",
   "execution_count": 73,
   "metadata": {},
   "outputs": [
    {
     "data": {
      "text/plain": [
       "<Figure size 144x144 with 0 Axes>"
      ]
     },
     "execution_count": 73,
     "metadata": {},
     "output_type": "execute_result"
    },
    {
     "data": {
      "text/plain": [
       "<matplotlib.axes._subplots.AxesSubplot at 0x1a1fde7710>"
      ]
     },
     "execution_count": 73,
     "metadata": {},
     "output_type": "execute_result"
    },
    {
     "data": {
      "image/png": "[encoded data removed]",
      "text/plain": [
       "<Figure size 144x144 with 2 Axes>"
      ]
     },
     "metadata": {
      "needs_background": "light"
     },
     "output_type": "display_data"
    }
   ],
   "source": [
    "import matplotlib.pyplot as plt\n",
    "import seaborn as sns\n",
    "plt.figure(figsize= (2,2))\n",
    "sns.heatmap(abs(corr_matrix), \n",
    "            xticklabels=corr_matrix.columns.values,\n",
    "            yticklabels=corr_matrix.columns.values,\n",
    "            cmap= \"bone\")\n",
    "plt.show()"
   ]
  },
  {
   "cell_type": "code",
   "execution_count": 134,
   "metadata": {},
   "outputs": [],
   "source": [
    "X.drop([\"PctDiscMM\",\"PctDiscCH\"], axis = 1, inplace = True)"
   ]
  },
  {
   "cell_type": "code",
   "execution_count": 135,
   "metadata": {},
   "outputs": [],
   "source": [
    "#Splitting of dataset\n",
    "from sklearn.model_selection import train_test_split\n",
    "X_train, X_test, y_train, y_test = train_test_split(X, y, test_size=0.2, random_state=42)"
   ]
  },
  {
   "cell_type": "code",
   "execution_count": 136,
   "metadata": {},
   "outputs": [],
   "source": [
    "#feature scaling\n",
    "from sklearn.preprocessing import StandardScaler\n",
    "sc_X=StandardScaler()\n",
    "X_train = sc_X.fit_transform(X_train)\n",
    "X_test = sc_X.transform(X_test)"
   ]
  },
  {
   "cell_type": "code",
   "execution_count": 137,
   "metadata": {},
   "outputs": [],
   "source": [
    "# import warnings filter\n",
    "from warnings import simplefilter\n",
    "# ignore all future warnings\n",
    "simplefilter(action='ignore', category=FutureWarning)"
   ]
  },
  {
   "cell_type": "code",
   "execution_count": 78,
   "metadata": {
    "scrolled": true
   },
   "outputs": [],
   "source": [
    "from sklearn.linear_model import LogisticRegression\n",
    "from sklearn.model_selection import GridSearchCV\n",
    "C = np.logspace(0, 4, 10)\n",
    "penalty = ['l1', 'l2']\n",
    "logistic = LogisticRegression()\n",
    "hyperparameters = dict(C=C, penalty=penalty)\n",
    "clf = GridSearchCV(logistic, hyperparameters, cv=5, verbose=0)\n",
    "best_model = clf.fit(X_train, y_train)"
   ]
  },
  {
   "cell_type": "code",
   "execution_count": 147,
   "metadata": {},
   "outputs": [
    {
     "name": "stdout",
     "output_type": "stream",
     "text": [
      "Best Parameters {'C': 1.0, 'penalty': 'l1'}\n",
      "Best Penalty: l1\n",
      "Best C: 1.0\n",
      "----------------------------------------------------------------------\n",
      "0.832 (+/-0.045) for {'C': 1.0, 'penalty': 'l1'}\n",
      "0.828 (+/-0.043) for {'C': 1.0, 'penalty': 'l2'}\n",
      "0.831 (+/-0.049) for {'C': 2.7825594022071245, 'penalty': 'l1'}\n",
      "0.828 (+/-0.043) for {'C': 2.7825594022071245, 'penalty': 'l2'}\n",
      "0.829 (+/-0.046) for {'C': 7.742636826811269, 'penalty': 'l1'}\n",
      "0.828 (+/-0.043) for {'C': 7.742636826811269, 'penalty': 'l2'}\n",
      "0.829 (+/-0.046) for {'C': 21.544346900318832, 'penalty': 'l1'}\n",
      "0.828 (+/-0.043) for {'C': 21.544346900318832, 'penalty': 'l2'}\n",
      "0.829 (+/-0.046) for {'C': 59.94842503189409, 'penalty': 'l1'}\n",
      "0.828 (+/-0.043) for {'C': 59.94842503189409, 'penalty': 'l2'}\n",
      "0.829 (+/-0.046) for {'C': 166.81005372000593, 'penalty': 'l1'}\n",
      "0.828 (+/-0.043) for {'C': 166.81005372000593, 'penalty': 'l2'}\n",
      "0.828 (+/-0.043) for {'C': 464.15888336127773, 'penalty': 'l1'}\n",
      "0.828 (+/-0.043) for {'C': 464.15888336127773, 'penalty': 'l2'}\n",
      "0.828 (+/-0.043) for {'C': 1291.5496650148827, 'penalty': 'l1'}\n",
      "0.828 (+/-0.043) for {'C': 1291.5496650148827, 'penalty': 'l2'}\n",
      "0.828 (+/-0.043) for {'C': 3593.813663804626, 'penalty': 'l1'}\n",
      "0.828 (+/-0.043) for {'C': 3593.813663804626, 'penalty': 'l2'}\n",
      "0.828 (+/-0.043) for {'C': 10000.0, 'penalty': 'l1'}\n",
      "0.828 (+/-0.043) for {'C': 10000.0, 'penalty': 'l2'}\n"
     ]
    }
   ],
   "source": [
    "print('Best Parameters',clf.best_params_)\n",
    "print('Best Penalty:', best_model.best_estimator_.get_params()['penalty'])\n",
    "print('Best C:', best_model.best_estimator_.get_params()['C'])\n",
    "print(\"-------\"*10)\n",
    "means = clf.cv_results_['mean_test_score']\n",
    "stds = clf.cv_results_['std_test_score']\n",
    "for mean, std, params in zip(means, stds, clf.cv_results_['params']):\n",
    "        print(\"%0.3f (+/-%0.03f) for %r\"\n",
    "            % (mean, std * 2, params))"
   ]
  },
  {
   "cell_type": "code",
   "execution_count": 80,
   "metadata": {},
   "outputs": [],
   "source": [
    "y_pred_Logisticregression=best_model.predict(X_test)"
   ]
  },
  {
   "cell_type": "code",
   "execution_count": 81,
   "metadata": {},
   "outputs": [
    {
     "data": {
      "text/plain": [
       "array([[116,  14],\n",
       "       [ 25,  59]])"
      ]
     },
     "execution_count": 81,
     "metadata": {},
     "output_type": "execute_result"
    }
   ],
   "source": [
    "from sklearn.metrics import confusion_matrix\n",
    "confusion_matrix(y_test, y_pred_Logisticregression)"
   ]
  },
  {
   "cell_type": "code",
   "execution_count": 82,
   "metadata": {},
   "outputs": [],
   "source": [
    "#best_model.predict(X_train)"
   ]
  },
  {
   "cell_type": "code",
   "execution_count": 83,
   "metadata": {},
   "outputs": [
    {
     "name": "stdout",
     "output_type": "stream",
     "text": [
      "              precision    recall  f1-score   support\n",
      "\n",
      "           0       0.82      0.89      0.86       130\n",
      "           1       0.81      0.70      0.75        84\n",
      "\n",
      "    accuracy                           0.82       214\n",
      "   macro avg       0.82      0.80      0.80       214\n",
      "weighted avg       0.82      0.82      0.82       214\n",
      "\n"
     ]
    }
   ],
   "source": [
    "from sklearn.metrics import classification_report\n",
    "print(classification_report(y_test, y_pred_Logisticregression))"
   ]
  },
  {
   "cell_type": "code",
   "execution_count": 84,
   "metadata": {},
   "outputs": [
    {
     "name": "stdout",
     "output_type": "stream",
     "text": [
      "Accuracy = 0.82\n",
      "Kappa = 0.61\n",
      "F1 Score = 0.75\n",
      "Log Loss = 6.29\n",
      "AUC = 0.80\n"
     ]
    }
   ],
   "source": [
    "from sklearn.metrics import accuracy_score,cohen_kappa_score,f1_score,log_loss,roc_auc_score\n",
    "print(\"Accuracy = {:.2f}\".format(accuracy_score(y_test, y_pred_Logisticregression)))\n",
    "print(\"Kappa = {:.2f}\".format(cohen_kappa_score(y_test, y_pred_Logisticregression)))\n",
    "print(\"F1 Score = {:.2f}\".format(f1_score(y_test, y_pred_Logisticregression)))\n",
    "print(\"Log Loss = {:.2f}\".format(log_loss(y_test, y_pred_Logisticregression)))\n",
    "print(\"AUC = {:.2f}\".format(roc_auc_score(y_test, y_pred_Logisticregression)))"
   ]
  },
  {
   "cell_type": "code",
   "execution_count": 146,
   "metadata": {},
   "outputs": [],
   "source": [
    " def GridSearch_func(X,y, estimator, param_grid, cv=10 , scoring = 'roc_auc'):\n",
    "\n",
    "    grid_search = GridSearchCV(estimator, param_grid, cv=cv,\n",
    "                           scoring=scoring)\n",
    "    grid_search.fit(X, y)\n",
    "    print (\"best parameters: \", grid_search.best_params_)\n",
    "    #print(f\"best {scoring} score during training: \", grid_search.best_score_)\n",
    "    print(\"-------\"*10)\n",
    "    means = grid_search.cv_results_['mean_test_score']\n",
    "    stds = grid_search.cv_results_['std_test_score']\n",
    "    for mean, std, params in zip(means, stds, grid_search.cv_results_['params']):\n",
    "        print(\"%0.3f (+/-%0.03f) for %r\"\n",
    "            % (mean, std * 2, params))\n",
    "    print()\n",
    "    print(f\"mean of {scoring} scores during validation: {sum(means)/len(means):0.3f}\")\n",
    "    print(\"-------\"*10)\n",
    "    best_model = grid_search.best_estimator_\n",
    "    print (\"best_model: \", best_model)\n",
    "    \n",
    "    return best_model\n"
   ]
  },
  {
   "cell_type": "code",
   "execution_count": 123,
   "metadata": {},
   "outputs": [
    {
     "data": {
      "text/plain": [
       "DecisionTreeClassifier(class_weight={0: 0.75, 1: 0.25}, criterion='gini',\n",
       "                       max_depth=None, max_features=None, max_leaf_nodes=None,\n",
       "                       min_impurity_decrease=0.0, min_impurity_split=None,\n",
       "                       min_samples_leaf=1, min_samples_split=2,\n",
       "                       min_weight_fraction_leaf=0.0, presort=True,\n",
       "                       random_state=42, splitter='best')"
      ]
     },
     "execution_count": 123,
     "metadata": {},
     "output_type": "execute_result"
    },
    {
     "name": "stdout",
     "output_type": "stream",
     "text": [
      "best parameters:  {'criterion': 'entropy', 'max_depth': 10, 'max_features': None, 'max_leaf_nodes': None, 'min_impurity_decrease': 0, 'min_samples_leaf': 10, 'min_samples_split': 50}\n",
      "----------------------------------------------------------------------\n",
      "0.832 (+/-0.045) for {'criterion': 'gini', 'max_depth': 2, 'max_features': None, 'max_leaf_nodes': None, 'min_impurity_decrease': 0, 'min_samples_leaf': 1, 'min_samples_split': 2}\n",
      "0.828 (+/-0.043) for {'criterion': 'gini', 'max_depth': 2, 'max_features': None, 'max_leaf_nodes': None, 'min_impurity_decrease': 0, 'min_samples_leaf': 1, 'min_samples_split': 10}\n",
      "0.831 (+/-0.049) for {'criterion': 'gini', 'max_depth': 2, 'max_features': None, 'max_leaf_nodes': None, 'min_impurity_decrease': 0, 'min_samples_leaf': 1, 'min_samples_split': 50}\n",
      "0.828 (+/-0.043) for {'criterion': 'gini', 'max_depth': 2, 'max_features': None, 'max_leaf_nodes': None, 'min_impurity_decrease': 0, 'min_samples_leaf': 1, 'min_samples_split': 100}\n",
      "0.829 (+/-0.046) for {'criterion': 'gini', 'max_depth': 2, 'max_features': None, 'max_leaf_nodes': None, 'min_impurity_decrease': 0, 'min_samples_leaf': 5, 'min_samples_split': 2}\n",
      "0.828 (+/-0.043) for {'criterion': 'gini', 'max_depth': 2, 'max_features': None, 'max_leaf_nodes': None, 'min_impurity_decrease': 0, 'min_samples_leaf': 5, 'min_samples_split': 10}\n",
      "0.829 (+/-0.046) for {'criterion': 'gini', 'max_depth': 2, 'max_features': None, 'max_leaf_nodes': None, 'min_impurity_decrease': 0, 'min_samples_leaf': 5, 'min_samples_split': 50}\n",
      "0.828 (+/-0.043) for {'criterion': 'gini', 'max_depth': 2, 'max_features': None, 'max_leaf_nodes': None, 'min_impurity_decrease': 0, 'min_samples_leaf': 5, 'min_samples_split': 100}\n",
      "0.829 (+/-0.046) for {'criterion': 'gini', 'max_depth': 2, 'max_features': None, 'max_leaf_nodes': None, 'min_impurity_decrease': 0, 'min_samples_leaf': 10, 'min_samples_split': 2}\n",
      "0.828 (+/-0.043) for {'criterion': 'gini', 'max_depth': 2, 'max_features': None, 'max_leaf_nodes': None, 'min_impurity_decrease': 0, 'min_samples_leaf': 10, 'min_samples_split': 10}\n",
      "0.829 (+/-0.046) for {'criterion': 'gini', 'max_depth': 2, 'max_features': None, 'max_leaf_nodes': None, 'min_impurity_decrease': 0, 'min_samples_leaf': 10, 'min_samples_split': 50}\n",
      "0.828 (+/-0.043) for {'criterion': 'gini', 'max_depth': 2, 'max_features': None, 'max_leaf_nodes': None, 'min_impurity_decrease': 0, 'min_samples_leaf': 10, 'min_samples_split': 100}\n",
      "0.828 (+/-0.043) for {'criterion': 'gini', 'max_depth': 2, 'max_features': None, 'max_leaf_nodes': None, 'min_impurity_decrease': 0, 'min_samples_leaf': 50, 'min_samples_split': 2}\n",
      "0.828 (+/-0.043) for {'criterion': 'gini', 'max_depth': 2, 'max_features': None, 'max_leaf_nodes': None, 'min_impurity_decrease': 0, 'min_samples_leaf': 50, 'min_samples_split': 10}\n",
      "0.828 (+/-0.043) for {'criterion': 'gini', 'max_depth': 2, 'max_features': None, 'max_leaf_nodes': None, 'min_impurity_decrease': 0, 'min_samples_leaf': 50, 'min_samples_split': 50}\n",
      "0.828 (+/-0.043) for {'criterion': 'gini', 'max_depth': 2, 'max_features': None, 'max_leaf_nodes': None, 'min_impurity_decrease': 0, 'min_samples_leaf': 50, 'min_samples_split': 100}\n",
      "0.828 (+/-0.043) for {'criterion': 'gini', 'max_depth': 2, 'max_features': None, 'max_leaf_nodes': None, 'min_impurity_decrease': 0.1, 'min_samples_leaf': 1, 'min_samples_split': 2}\n",
      "0.828 (+/-0.043) for {'criterion': 'gini', 'max_depth': 2, 'max_features': None, 'max_leaf_nodes': None, 'min_impurity_decrease': 0.1, 'min_samples_leaf': 1, 'min_samples_split': 10}\n",
      "0.828 (+/-0.043) for {'criterion': 'gini', 'max_depth': 2, 'max_features': None, 'max_leaf_nodes': None, 'min_impurity_decrease': 0.1, 'min_samples_leaf': 1, 'min_samples_split': 50}\n",
      "0.828 (+/-0.043) for {'criterion': 'gini', 'max_depth': 2, 'max_features': None, 'max_leaf_nodes': None, 'min_impurity_decrease': 0.1, 'min_samples_leaf': 1, 'min_samples_split': 100}\n",
      "\n",
      "mean of roc_auc scores during validation: 0.829\n",
      "----------------------------------------------------------------------\n",
      "best_model:  DecisionTreeClassifier(class_weight={0: 0.75, 1: 0.25}, criterion='entropy',\n",
      "                       max_depth=10, max_features=None, max_leaf_nodes=None,\n",
      "                       min_impurity_decrease=0, min_impurity_split=None,\n",
      "                       min_samples_leaf=10, min_samples_split=50,\n",
      "                       min_weight_fraction_leaf=0.0, presort=True,\n",
      "                       random_state=42, splitter='best')\n"
     ]
    },
    {
     "name": "stderr",
     "output_type": "stream",
     "text": [
      "/Users/monalisa/anaconda3/lib/python3.7/site-packages/sklearn/model_selection/_search.py:813: DeprecationWarning: The default of the `iid` parameter will change from True to False in version 0.22 and will be removed in 0.24. This will change numeric results when test-set sizes are unequal.\n",
      "  DeprecationWarning)\n"
     ]
    }
   ],
   "source": [
    "from sklearn.tree import DecisionTreeClassifier\n",
    "dt_clf = DecisionTreeClassifier(splitter='best', presort=True, class_weight={0:0.75, 1:0.25}, random_state=42)\n",
    "dt_clf.fit(X_train, y_train)\n",
    "y_pred_dt = dt_clf.predict(X_test)\n",
    "param_grid_dt = [{'criterion':('gini', 'entropy'), 'max_depth':[2, 4, 6, 8, 10,12], 'min_samples_split':[2, 10, 50,100], 'min_samples_leaf':[1, 5, 10,50],\n",
    "             'max_features':[None, 'auto'], 'max_leaf_nodes':[None, 5, 10, 50,100], 'min_impurity_decrease':[0, 0.1, 0.2]}]\n",
    "dt_model = GridSearch_func(X = X_train, y= np.ravel(y_train),\n",
    "                           estimator = dt_clf, param_grid = param_grid_dt, cv=10, scoring = 'roc_auc')"
   ]
  },
  {
   "cell_type": "code",
   "execution_count": 87,
   "metadata": {},
   "outputs": [
    {
     "data": {
      "text/plain": [
       "array([[101,  29],\n",
       "       [ 30,  54]])"
      ]
     },
     "execution_count": 87,
     "metadata": {},
     "output_type": "execute_result"
    }
   ],
   "source": [
    "from sklearn.metrics import confusion_matrix\n",
    "confusion_matrix(y_test, y_pred_dt)"
   ]
  },
  {
   "cell_type": "code",
   "execution_count": 88,
   "metadata": {},
   "outputs": [
    {
     "name": "stdout",
     "output_type": "stream",
     "text": [
      "              precision    recall  f1-score   support\n",
      "\n",
      "           0       0.77      0.78      0.77       130\n",
      "           1       0.65      0.64      0.65        84\n",
      "\n",
      "    accuracy                           0.72       214\n",
      "   macro avg       0.71      0.71      0.71       214\n",
      "weighted avg       0.72      0.72      0.72       214\n",
      "\n"
     ]
    }
   ],
   "source": [
    "from sklearn.metrics import classification_report\n",
    "print(classification_report(y_test, y_pred_dt))"
   ]
  },
  {
   "cell_type": "code",
   "execution_count": 141,
   "metadata": {},
   "outputs": [],
   "source": [
    "#print(dt_clf.tree_.node_count)\n",
    "#print(dt_clf.tree_.impurity)\n",
    "#print(dt_clf.tree_.children_left)\n",
    "#print(dt_clf.tree_.threshold)\n"
   ]
  },
  {
   "cell_type": "code",
   "execution_count": 90,
   "metadata": {},
   "outputs": [
    {
     "name": "stdout",
     "output_type": "stream",
     "text": [
      "Accuracy = 0.72\n",
      "Kappa = 0.42\n",
      "F1 Score = 0.65\n",
      "Log Loss = 9.52\n",
      "AUC = 0.71\n"
     ]
    }
   ],
   "source": [
    "from sklearn.metrics import accuracy_score,cohen_kappa_score,f1_score,log_loss,roc_auc_score\n",
    "print(\"Accuracy = {:.2f}\".format(accuracy_score(y_test, y_pred_dt)))\n",
    "print(\"Kappa = {:.2f}\".format(cohen_kappa_score(y_test, y_pred_dt)))\n",
    "print(\"F1 Score = {:.2f}\".format(f1_score(y_test, y_pred_dt)))\n",
    "print(\"Log Loss = {:.2f}\".format(log_loss(y_test, y_pred_dt)))\n",
    "print(\"AUC = {:.2f}\".format(roc_auc_score(y_test, y_pred_dt)))"
   ]
  },
  {
   "cell_type": "code",
   "execution_count": 124,
   "metadata": {},
   "outputs": [
    {
     "data": {
      "text/plain": [
       "RandomForestClassifier(bootstrap=True, class_weight={0: 0.75, 1: 0.25},\n",
       "                       criterion='gini', max_depth=8, max_features='auto',\n",
       "                       max_leaf_nodes=None, min_impurity_decrease=0.0,\n",
       "                       min_impurity_split=None, min_samples_leaf=1,\n",
       "                       min_samples_split=2, min_weight_fraction_leaf=0.0,\n",
       "                       n_estimators=200, n_jobs=-1, oob_score=False,\n",
       "                       random_state=42, verbose=0, warm_start=False)"
      ]
     },
     "execution_count": 124,
     "metadata": {},
     "output_type": "execute_result"
    },
    {
     "name": "stdout",
     "output_type": "stream",
     "text": [
      "best parameters:  {'criterion': 'entropy', 'max_depth': 5, 'max_features': 'auto', 'n_estimators': 500}\n",
      "----------------------------------------------------------------------\n",
      "0.832 (+/-0.045) for {'criterion': 'gini', 'max_depth': 4, 'max_features': 'auto', 'n_estimators': 200}\n",
      "0.828 (+/-0.043) for {'criterion': 'gini', 'max_depth': 4, 'max_features': 'auto', 'n_estimators': 500}\n",
      "0.831 (+/-0.049) for {'criterion': 'gini', 'max_depth': 4, 'max_features': 'sqrt', 'n_estimators': 200}\n",
      "0.828 (+/-0.043) for {'criterion': 'gini', 'max_depth': 4, 'max_features': 'sqrt', 'n_estimators': 500}\n",
      "0.829 (+/-0.046) for {'criterion': 'gini', 'max_depth': 4, 'max_features': 'log2', 'n_estimators': 200}\n",
      "0.828 (+/-0.043) for {'criterion': 'gini', 'max_depth': 4, 'max_features': 'log2', 'n_estimators': 500}\n",
      "0.829 (+/-0.046) for {'criterion': 'gini', 'max_depth': 5, 'max_features': 'auto', 'n_estimators': 200}\n",
      "0.828 (+/-0.043) for {'criterion': 'gini', 'max_depth': 5, 'max_features': 'auto', 'n_estimators': 500}\n",
      "0.829 (+/-0.046) for {'criterion': 'gini', 'max_depth': 5, 'max_features': 'sqrt', 'n_estimators': 200}\n",
      "0.828 (+/-0.043) for {'criterion': 'gini', 'max_depth': 5, 'max_features': 'sqrt', 'n_estimators': 500}\n",
      "0.829 (+/-0.046) for {'criterion': 'gini', 'max_depth': 5, 'max_features': 'log2', 'n_estimators': 200}\n",
      "0.828 (+/-0.043) for {'criterion': 'gini', 'max_depth': 5, 'max_features': 'log2', 'n_estimators': 500}\n",
      "0.828 (+/-0.043) for {'criterion': 'gini', 'max_depth': 6, 'max_features': 'auto', 'n_estimators': 200}\n",
      "0.828 (+/-0.043) for {'criterion': 'gini', 'max_depth': 6, 'max_features': 'auto', 'n_estimators': 500}\n",
      "0.828 (+/-0.043) for {'criterion': 'gini', 'max_depth': 6, 'max_features': 'sqrt', 'n_estimators': 200}\n",
      "0.828 (+/-0.043) for {'criterion': 'gini', 'max_depth': 6, 'max_features': 'sqrt', 'n_estimators': 500}\n",
      "0.828 (+/-0.043) for {'criterion': 'gini', 'max_depth': 6, 'max_features': 'log2', 'n_estimators': 200}\n",
      "0.828 (+/-0.043) for {'criterion': 'gini', 'max_depth': 6, 'max_features': 'log2', 'n_estimators': 500}\n",
      "0.828 (+/-0.043) for {'criterion': 'gini', 'max_depth': 7, 'max_features': 'auto', 'n_estimators': 200}\n",
      "0.828 (+/-0.043) for {'criterion': 'gini', 'max_depth': 7, 'max_features': 'auto', 'n_estimators': 500}\n",
      "\n",
      "mean of roc_auc scores during validation: 0.829\n",
      "----------------------------------------------------------------------\n",
      "best_model:  RandomForestClassifier(bootstrap=True, class_weight={0: 0.75, 1: 0.25},\n",
      "                       criterion='entropy', max_depth=5, max_features='auto',\n",
      "                       max_leaf_nodes=None, min_impurity_decrease=0.0,\n",
      "                       min_impurity_split=None, min_samples_leaf=1,\n",
      "                       min_samples_split=2, min_weight_fraction_leaf=0.0,\n",
      "                       n_estimators=500, n_jobs=-1, oob_score=False,\n",
      "                       random_state=42, verbose=0, warm_start=False)\n"
     ]
    }
   ],
   "source": [
    "#Random Forest with Final features\n",
    "from sklearn.ensemble import RandomForestClassifier \n",
    "rf_clf = RandomForestClassifier(n_jobs = -1, random_state=42 , class_weight= {0:0.75, 1:0.25}, max_features='auto', n_estimators= 200, max_depth=8, criterion='gini')\n",
    "rf_clf.fit(X_train, y_train)\n",
    "y_pred_rf = rf_clf.predict(X_test)\n",
    "#param_grid_rf = [{'n_estimators': [ 400, 500, 600 ]  , 'max_depth' : [ 10, 15, 20] }]\n",
    "param_grid_rf = { \n",
    "    'n_estimators': [200, 500],\n",
    "    'max_features': ['auto', 'sqrt', 'log2'],\n",
    "    'max_depth' : [4,5,6,7,8,10],\n",
    "\n",
    "    'criterion' :['gini', 'entropy']\n",
    "}\n",
    "#rfc1=RandomForestClassifier(random_state=42, max_features='auto', n_estimators= 200, max_depth=8, criterion='gini')\n",
    "rf_model = GridSearch_func(X = X_train, y= np.ravel(y_train),\n",
    "                           estimator = rf_clf, param_grid =param_grid_rf, cv=10  , scoring = \"roc_auc\")"
   ]
  },
  {
   "cell_type": "code",
   "execution_count": 92,
   "metadata": {},
   "outputs": [
    {
     "data": {
      "text/plain": [
       "array([[120,  10],\n",
       "       [ 35,  49]])"
      ]
     },
     "execution_count": 92,
     "metadata": {},
     "output_type": "execute_result"
    }
   ],
   "source": [
    "from sklearn.metrics import confusion_matrix\n",
    "confusion_matrix(y_test, y_pred_rf)"
   ]
  },
  {
   "cell_type": "code",
   "execution_count": 93,
   "metadata": {},
   "outputs": [
    {
     "name": "stdout",
     "output_type": "stream",
     "text": [
      "Accuracy = 0.79\n",
      "Kappa = 0.53\n",
      "F1 Score = 0.69\n",
      "Log Loss = 7.26\n",
      "AUC = 0.75\n"
     ]
    }
   ],
   "source": [
    "from sklearn.metrics import accuracy_score,cohen_kappa_score,f1_score,log_loss,roc_auc_score\n",
    "print(\"Accuracy = {:.2f}\".format(accuracy_score(y_test, y_pred_rf)))\n",
    "print(\"Kappa = {:.2f}\".format(cohen_kappa_score(y_test, y_pred_rf)))\n",
    "print(\"F1 Score = {:.2f}\".format(f1_score(y_test, y_pred_rf)))\n",
    "print(\"Log Loss = {:.2f}\".format(log_loss(y_test, y_pred_rf)))\n",
    "print(\"AUC = {:.2f}\".format(roc_auc_score(y_test, y_pred_rf)))"
   ]
  },
  {
   "cell_type": "code",
   "execution_count": 94,
   "metadata": {},
   "outputs": [
    {
     "data": {
      "text/plain": [
       "GaussianNB(priors=None, var_smoothing=1e-09)"
      ]
     },
     "execution_count": 94,
     "metadata": {},
     "output_type": "execute_result"
    }
   ],
   "source": [
    "from sklearn.naive_bayes import GaussianNB\n",
    "gnb = GaussianNB()\n",
    "gnb = gnb.fit(X_train, y_train)\n",
    "gnb\n",
    "y_pred_gnb = gnb.predict(X_test)"
   ]
  },
  {
   "cell_type": "markdown",
   "metadata": {},
   "source": [
    "gnb.theta_ # Mean of each feature per class\n",
    "gnb.sigma_ # Variance of each feature per class  "
   ]
  },
  {
   "cell_type": "code",
   "execution_count": 95,
   "metadata": {},
   "outputs": [
    {
     "data": {
      "text/plain": [
       "array([[96, 34],\n",
       "       [23, 61]])"
      ]
     },
     "execution_count": 95,
     "metadata": {},
     "output_type": "execute_result"
    }
   ],
   "source": [
    "confusion_matrix(y_test, y_pred_gnb)"
   ]
  },
  {
   "cell_type": "code",
   "execution_count": 96,
   "metadata": {},
   "outputs": [
    {
     "name": "stdout",
     "output_type": "stream",
     "text": [
      "              precision    recall  f1-score   support\n",
      "\n",
      "           0       0.81      0.74      0.77       130\n",
      "           1       0.64      0.73      0.68        84\n",
      "\n",
      "    accuracy                           0.73       214\n",
      "   macro avg       0.72      0.73      0.73       214\n",
      "weighted avg       0.74      0.73      0.74       214\n",
      "\n"
     ]
    }
   ],
   "source": [
    "print(classification_report(y_test, y_pred_gnb))"
   ]
  },
  {
   "cell_type": "code",
   "execution_count": 97,
   "metadata": {},
   "outputs": [
    {
     "name": "stdout",
     "output_type": "stream",
     "text": [
      "Accuracy = 0.73\n",
      "Kappa = 0.45\n",
      "F1 Score = 0.68\n",
      "Log Loss = 9.20\n",
      "AUC = 0.73\n"
     ]
    }
   ],
   "source": [
    "print(\"Accuracy = {:.2f}\".format(accuracy_score(y_test, y_pred_gnb)))\n",
    "print(\"Kappa = {:.2f}\".format(cohen_kappa_score(y_test, y_pred_gnb)))\n",
    "print(\"F1 Score = {:.2f}\".format(f1_score(y_test, y_pred_gnb)))\n",
    "print(\"Log Loss = {:.2f}\".format(log_loss(y_test, y_pred_gnb)))\n",
    "print(\"AUC = {:.2f}\".format(roc_auc_score(y_test, y_pred_gnb)))"
   ]
  },
  {
   "cell_type": "code",
   "execution_count": 125,
   "metadata": {},
   "outputs": [
    {
     "data": {
      "text/plain": [
       "KNeighborsClassifier(algorithm='auto', leaf_size=30, metric='minkowski',\n",
       "                     metric_params=None, n_jobs=None, n_neighbors=100, p=2,\n",
       "                     weights='uniform')"
      ]
     },
     "execution_count": 125,
     "metadata": {},
     "output_type": "execute_result"
    },
    {
     "name": "stdout",
     "output_type": "stream",
     "text": [
      "best parameters:  {'metric': 'manhattan', 'n_neighbors': 85, 'p': 1, 'weights': 'distance'}\n",
      "----------------------------------------------------------------------\n",
      "0.832 (+/-0.045) for {'metric': 'manhattan', 'n_neighbors': 20, 'p': 1, 'weights': 'distance'}\n",
      "0.828 (+/-0.043) for {'metric': 'manhattan', 'n_neighbors': 25, 'p': 1, 'weights': 'distance'}\n",
      "0.831 (+/-0.049) for {'metric': 'manhattan', 'n_neighbors': 67, 'p': 1, 'weights': 'distance'}\n",
      "0.828 (+/-0.043) for {'metric': 'manhattan', 'n_neighbors': 85, 'p': 1, 'weights': 'distance'}\n",
      "\n",
      "mean of roc_auc scores during validation: 0.829\n",
      "----------------------------------------------------------------------\n",
      "best_model:  KNeighborsClassifier(algorithm='auto', leaf_size=30, metric='manhattan',\n",
      "                     metric_params=None, n_jobs=None, n_neighbors=85, p=1,\n",
      "                     weights='distance')\n"
     ]
    }
   ],
   "source": [
    "from sklearn.neighbors import KNeighborsClassifier\n",
    "knn_clf = KNeighborsClassifier(n_neighbors=100)\n",
    "knn_clf.fit(X_train, y_train)\n",
    "y_pred_knn = knn_clf.predict(X_test)\n",
    "#[20, 27 , 30 , 35]\n",
    "param_grid_knn =  [{'n_neighbors': [20, 25 , 67 , 85],\n",
    "               'weights': ['distance'],\n",
    "                'metric': ['manhattan'],\n",
    "               'p': [1]\n",
    "                }]\n",
    "knn_model = GridSearch_func(X = X_train, y= np.ravel(y_train),\n",
    "                           estimator = knn_clf, param_grid = param_grid_knn, cv=10  , scoring = 'roc_auc')"
   ]
  },
  {
   "cell_type": "code",
   "execution_count": 99,
   "metadata": {},
   "outputs": [
    {
     "data": {
      "text/plain": [
       "'euclidean'"
      ]
     },
     "execution_count": 99,
     "metadata": {},
     "output_type": "execute_result"
    },
    {
     "data": {
      "text/plain": [
       "{}"
      ]
     },
     "execution_count": 99,
     "metadata": {},
     "output_type": "execute_result"
    }
   ],
   "source": [
    "knn_clf.effective_metric_\n",
    "knn_clf.effective_metric_params_"
   ]
  },
  {
   "cell_type": "code",
   "execution_count": 100,
   "metadata": {},
   "outputs": [
    {
     "name": "stdout",
     "output_type": "stream",
     "text": [
      "[[112  18]\n",
      " [ 38  46]]\n"
     ]
    }
   ],
   "source": [
    "print(confusion_matrix(y_test, y_pred_knn))"
   ]
  },
  {
   "cell_type": "code",
   "execution_count": 101,
   "metadata": {},
   "outputs": [
    {
     "name": "stdout",
     "output_type": "stream",
     "text": [
      "              precision    recall  f1-score   support\n",
      "\n",
      "           0       0.75      0.86      0.80       130\n",
      "           1       0.72      0.55      0.62        84\n",
      "\n",
      "    accuracy                           0.74       214\n",
      "   macro avg       0.73      0.70      0.71       214\n",
      "weighted avg       0.74      0.74      0.73       214\n",
      "\n"
     ]
    }
   ],
   "source": [
    "print(classification_report(y_test, y_pred_knn))"
   ]
  },
  {
   "cell_type": "code",
   "execution_count": 102,
   "metadata": {},
   "outputs": [
    {
     "name": "stdout",
     "output_type": "stream",
     "text": [
      "Accuracy = 0.74\n",
      "Kappa = 0.43\n",
      "F1 Score = 0.62\n",
      "Log Loss = 9.04\n",
      "AUC = 0.70\n"
     ]
    }
   ],
   "source": [
    "from sklearn.metrics import accuracy_score,cohen_kappa_score,f1_score,log_loss,roc_auc_score\n",
    "print(\"Accuracy = {:.2f}\".format(accuracy_score(y_test, y_pred_knn)))\n",
    "print(\"Kappa = {:.2f}\".format(cohen_kappa_score(y_test, y_pred_knn)))\n",
    "print(\"F1 Score = {:.2f}\".format(f1_score(y_test, y_pred_knn)))\n",
    "print(\"Log Loss = {:.2f}\".format(log_loss(y_test, y_pred_knn)))\n",
    "print(\"AUC = {:.2f}\".format(roc_auc_score(y_test, y_pred_knn)))"
   ]
  },
  {
   "cell_type": "code",
   "execution_count": 103,
   "metadata": {},
   "outputs": [
    {
     "data": {
      "text/plain": [
       "SVC(C=1.0, cache_size=200, class_weight=None, coef0=0.0,\n",
       "    decision_function_shape='ovr', degree=3, gamma='auto', kernel='rbf',\n",
       "    max_iter=-1, probability=True, random_state=42, shrinking=True, tol=0.001,\n",
       "    verbose=False)"
      ]
     },
     "execution_count": 103,
     "metadata": {},
     "output_type": "execute_result"
    },
    {
     "name": "stdout",
     "output_type": "stream",
     "text": [
      "best parameters:  {'C': 0.5, 'kernel': 'rbf'}\n",
      "----------------------------------------------------------------------\n",
      "0.893 (+/-0.068) for {'C': 0.5, 'kernel': 'rbf'}\n",
      "0.889 (+/-0.066) for {'C': 1, 'kernel': 'rbf'}\n",
      "\n",
      "mean of roc_auc scores during validation: 0.891\n",
      "----------------------------------------------------------------------\n",
      "best_model:  SVC(C=0.5, cache_size=200, class_weight=None, coef0=0.0,\n",
      "    decision_function_shape='ovr', degree=3, gamma='auto', kernel='rbf',\n",
      "    max_iter=-1, probability=True, random_state=42, shrinking=True, tol=0.001,\n",
      "    verbose=False)\n"
     ]
    }
   ],
   "source": [
    "from sklearn.svm import SVC\n",
    "svm_clf = SVC( random_state=42 , gamma = 'auto', probability= True)\n",
    "svm_clf.fit(X_train, y_train)\n",
    "y_pred_svm = svm_clf.predict(X_test)\n",
    "#svm_clf = SVC( random_state=42 , gamma = 'auto', probability= True)\n",
    "param_grid_svm = [{'kernel': ['rbf' ]  , 'C' : [ 0.5,1]}]\n",
    "svm_model = GridSearch_func(X = X_train, y= np.ravel(y_train),\n",
    "                           estimator = svm_clf, param_grid = param_grid_svm, cv=10  , scoring = 'roc_auc')"
   ]
  },
  {
   "cell_type": "code",
   "execution_count": 104,
   "metadata": {},
   "outputs": [
    {
     "data": {
      "text/plain": [
       "array([205, 195], dtype=int32)"
      ]
     },
     "execution_count": 104,
     "metadata": {},
     "output_type": "execute_result"
    }
   ],
   "source": [
    "svm_clf.n_support_"
   ]
  },
  {
   "cell_type": "code",
   "execution_count": 142,
   "metadata": {},
   "outputs": [],
   "source": [
    "#svm_clf.support_vectors_"
   ]
  },
  {
   "cell_type": "code",
   "execution_count": 143,
   "metadata": {
    "scrolled": true
   },
   "outputs": [],
   "source": [
    "#svm_clf.dual_coef_"
   ]
  },
  {
   "cell_type": "code",
   "execution_count": 107,
   "metadata": {},
   "outputs": [
    {
     "data": {
      "text/plain": [
       "array([-0.05693943])"
      ]
     },
     "execution_count": 107,
     "metadata": {},
     "output_type": "execute_result"
    }
   ],
   "source": [
    "svm_clf.intercept_"
   ]
  },
  {
   "cell_type": "code",
   "execution_count": 108,
   "metadata": {},
   "outputs": [
    {
     "name": "stdout",
     "output_type": "stream",
     "text": [
      "[[115  15]\n",
      " [ 24  60]]\n"
     ]
    }
   ],
   "source": [
    "print(confusion_matrix(y_test, y_pred_svm))"
   ]
  },
  {
   "cell_type": "code",
   "execution_count": 109,
   "metadata": {},
   "outputs": [
    {
     "name": "stdout",
     "output_type": "stream",
     "text": [
      "              precision    recall  f1-score   support\n",
      "\n",
      "           0       0.83      0.88      0.86       130\n",
      "           1       0.80      0.71      0.75        84\n",
      "\n",
      "    accuracy                           0.82       214\n",
      "   macro avg       0.81      0.80      0.80       214\n",
      "weighted avg       0.82      0.82      0.82       214\n",
      "\n"
     ]
    }
   ],
   "source": [
    "print(classification_report(y_test, y_pred_svm))"
   ]
  },
  {
   "cell_type": "code",
   "execution_count": 110,
   "metadata": {},
   "outputs": [
    {
     "name": "stdout",
     "output_type": "stream",
     "text": [
      "Accuracy = 0.82\n",
      "Kappa = 0.61\n",
      "F1 Score = 0.75\n",
      "Log Loss = 6.29\n",
      "AUC = 0.80\n"
     ]
    }
   ],
   "source": [
    "print(\"Accuracy = {:.2f}\".format(accuracy_score(y_test, y_pred_svm)))\n",
    "print(\"Kappa = {:.2f}\".format(cohen_kappa_score(y_test, y_pred_svm)))\n",
    "print(\"F1 Score = {:.2f}\".format(f1_score(y_test, y_pred_svm)))\n",
    "print(\"Log Loss = {:.2f}\".format(log_loss(y_test, y_pred_svm)))\n",
    "print(\"AUC = {:.2f}\".format(roc_auc_score(y_test, y_pred_svm)))"
   ]
  },
  {
   "cell_type": "code",
   "execution_count": 111,
   "metadata": {},
   "outputs": [],
   "source": [
    "from warnings import simplefilter\n",
    "from sklearn.utils.testing import ignore_warnings\n",
    "from sklearn.exceptions import ConvergenceWarning\n",
    "# ignore all future warnings\n",
    "simplefilter(action='ignore', category=ConvergenceWarning)"
   ]
  },
  {
   "cell_type": "code",
   "execution_count": 145,
   "metadata": {},
   "outputs": [
    {
     "data": {
      "text/plain": [
       "MLPClassifier(activation='relu', alpha=0.0001, batch_size='auto', beta_1=0.9,\n",
       "              beta_2=0.999, early_stopping=False, epsilon=1e-08,\n",
       "              hidden_layer_sizes=(100,), learning_rate='constant',\n",
       "              learning_rate_init=0.001, max_iter=50, momentum=0.9,\n",
       "              n_iter_no_change=10, nesterovs_momentum=True, power_t=0.5,\n",
       "              random_state=None, shuffle=True, solver='adam', tol=0.0001,\n",
       "              validation_fraction=0.1, verbose=False, warm_start=False)"
      ]
     },
     "execution_count": 145,
     "metadata": {},
     "output_type": "execute_result"
    },
    {
     "name": "stdout",
     "output_type": "stream",
     "text": [
      "best parameters:  {'activation': 'tanh', 'alpha': 0.0001, 'hidden_layer_sizes': (100,), 'learning_rate': 'constant', 'solver': 'adam'}\n",
      "----------------------------------------------------------------------\n",
      "0.832 (+/-0.045) for {'activation': 'tanh', 'alpha': 0.0001, 'hidden_layer_sizes': (50, 50, 50), 'learning_rate': 'constant', 'solver': 'adam'}\n",
      "0.828 (+/-0.043) for {'activation': 'tanh', 'alpha': 0.0001, 'hidden_layer_sizes': (50, 50, 50), 'learning_rate': 'adaptive', 'solver': 'adam'}\n",
      "0.831 (+/-0.049) for {'activation': 'tanh', 'alpha': 0.0001, 'hidden_layer_sizes': (50, 100, 50), 'learning_rate': 'constant', 'solver': 'adam'}\n",
      "0.828 (+/-0.043) for {'activation': 'tanh', 'alpha': 0.0001, 'hidden_layer_sizes': (50, 100, 50), 'learning_rate': 'adaptive', 'solver': 'adam'}\n",
      "0.829 (+/-0.046) for {'activation': 'tanh', 'alpha': 0.0001, 'hidden_layer_sizes': (100,), 'learning_rate': 'constant', 'solver': 'adam'}\n",
      "0.828 (+/-0.043) for {'activation': 'tanh', 'alpha': 0.0001, 'hidden_layer_sizes': (100,), 'learning_rate': 'adaptive', 'solver': 'adam'}\n",
      "0.829 (+/-0.046) for {'activation': 'tanh', 'alpha': 0.05, 'hidden_layer_sizes': (50, 50, 50), 'learning_rate': 'constant', 'solver': 'adam'}\n",
      "0.828 (+/-0.043) for {'activation': 'tanh', 'alpha': 0.05, 'hidden_layer_sizes': (50, 50, 50), 'learning_rate': 'adaptive', 'solver': 'adam'}\n",
      "0.829 (+/-0.046) for {'activation': 'tanh', 'alpha': 0.05, 'hidden_layer_sizes': (50, 100, 50), 'learning_rate': 'constant', 'solver': 'adam'}\n",
      "0.828 (+/-0.043) for {'activation': 'tanh', 'alpha': 0.05, 'hidden_layer_sizes': (50, 100, 50), 'learning_rate': 'adaptive', 'solver': 'adam'}\n",
      "0.829 (+/-0.046) for {'activation': 'tanh', 'alpha': 0.05, 'hidden_layer_sizes': (100,), 'learning_rate': 'constant', 'solver': 'adam'}\n",
      "0.828 (+/-0.043) for {'activation': 'tanh', 'alpha': 0.05, 'hidden_layer_sizes': (100,), 'learning_rate': 'adaptive', 'solver': 'adam'}\n",
      "\n",
      "mean of roc_auc scores during validation: 0.829\n",
      "----------------------------------------------------------------------\n",
      "best_model:  MLPClassifier(activation='tanh', alpha=0.0001, batch_size='auto', beta_1=0.9,\n",
      "              beta_2=0.999, early_stopping=False, epsilon=1e-08,\n",
      "              hidden_layer_sizes=(100,), learning_rate='constant',\n",
      "              learning_rate_init=0.001, max_iter=50, momentum=0.9,\n",
      "              n_iter_no_change=10, nesterovs_momentum=True, power_t=0.5,\n",
      "              random_state=None, shuffle=True, solver='adam', tol=0.0001,\n",
      "              validation_fraction=0.1, verbose=False, warm_start=False)\n"
     ]
    }
   ],
   "source": [
    "from sklearn.neural_network import MLPClassifier\n",
    "nn_clf = MLPClassifier(max_iter=50)\n",
    "nn_clf.fit(X_train, y_train)\n",
    "y_pred_nn = nn_clf.predict(X_test)\n",
    "#print(y_pred_nn)\n",
    "#nn_clf = MLPClassifier(max_iter=5)\n",
    "param_grid_nn =  {\n",
    "    'hidden_layer_sizes': [(50,50,50), (50,100,50), (100,)],\n",
    "    'activation': ['tanh'],\n",
    "    'solver': ['adam'],\n",
    "    'alpha': [0.0001, 0.05],\n",
    "    'learning_rate': ['constant','adaptive']}\n",
    "nn_model = GridSearch_func(X = X_train, y= np.ravel(y_train),\n",
    "                           estimator = nn_clf, param_grid = param_grid_nn, cv=10  , scoring = 'roc_auc')"
   ]
  },
  {
   "cell_type": "code",
   "execution_count": 113,
   "metadata": {},
   "outputs": [
    {
     "data": {
      "text/plain": [
       "0.34251447888533854"
      ]
     },
     "execution_count": 113,
     "metadata": {},
     "output_type": "execute_result"
    }
   ],
   "source": [
    "nn_clf.loss_"
   ]
  },
  {
   "cell_type": "code",
   "execution_count": 114,
   "metadata": {},
   "outputs": [
    {
     "data": {
      "text/plain": [
       "3"
      ]
     },
     "execution_count": 114,
     "metadata": {},
     "output_type": "execute_result"
    }
   ],
   "source": [
    "nn_clf.n_layers_"
   ]
  },
  {
   "cell_type": "code",
   "execution_count": 115,
   "metadata": {},
   "outputs": [],
   "source": [
    "w = nn_clf.coefs_ # The ith element in the list represents the weight matrix corresponding to layer i."
   ]
  },
  {
   "cell_type": "code",
   "execution_count": 116,
   "metadata": {},
   "outputs": [],
   "source": [
    "b = nn_clf.intercepts_ # The ith element in the list represents the bias vector corresponding to layer i + 1."
   ]
  },
  {
   "cell_type": "code",
   "execution_count": 117,
   "metadata": {},
   "outputs": [
    {
     "data": {
      "text/plain": [
       "'logistic'"
      ]
     },
     "execution_count": 117,
     "metadata": {},
     "output_type": "execute_result"
    }
   ],
   "source": [
    "nn_clf.out_activation_"
   ]
  },
  {
   "cell_type": "code",
   "execution_count": 118,
   "metadata": {},
   "outputs": [
    {
     "name": "stdout",
     "output_type": "stream",
     "text": [
      "[[114  16]\n",
      " [ 23  61]]\n"
     ]
    }
   ],
   "source": [
    "print(confusion_matrix(y_test, y_pred_nn))"
   ]
  },
  {
   "cell_type": "code",
   "execution_count": 119,
   "metadata": {
    "scrolled": false
   },
   "outputs": [
    {
     "name": "stdout",
     "output_type": "stream",
     "text": [
      "              precision    recall  f1-score   support\n",
      "\n",
      "           0       0.83      0.88      0.85       130\n",
      "           1       0.79      0.73      0.76        84\n",
      "\n",
      "    accuracy                           0.82       214\n",
      "   macro avg       0.81      0.80      0.81       214\n",
      "weighted avg       0.82      0.82      0.82       214\n",
      "\n"
     ]
    }
   ],
   "source": [
    "from sklearn.metrics import classification_report\n",
    "print(classification_report(y_test, y_pred_nn))"
   ]
  },
  {
   "cell_type": "code",
   "execution_count": 120,
   "metadata": {},
   "outputs": [
    {
     "name": "stdout",
     "output_type": "stream",
     "text": [
      "Accuracy = 0.82\n",
      "Kappa = 0.61\n",
      "F1 Score = 0.76\n",
      "Log Loss = 6.29\n",
      "AUC = 0.80\n"
     ]
    }
   ],
   "source": [
    "from sklearn.metrics import accuracy_score,cohen_kappa_score,f1_score,log_loss,roc_auc_score\n",
    "print(\"Accuracy = {:.2f}\".format(accuracy_score(y_test, y_pred_nn)))\n",
    "print(\"Kappa = {:.2f}\".format(cohen_kappa_score(y_test, y_pred_nn)))\n",
    "print(\"F1 Score = {:.2f}\".format(f1_score(y_test, y_pred_nn)))\n",
    "print(\"Log Loss = {:.2f}\".format(log_loss(y_test, y_pred_nn)))\n",
    "print(\"AUC = {:.2f}\".format(roc_auc_score(y_test, y_pred_nn)))"
   ]
  }
 ],
 "metadata": {
  "kernelspec": {
   "display_name": "Python 3",
   "language": "python",
   "name": "python3"
  },
  "language_info": {
   "codemirror_mode": {
    "name": "ipython",
    "version": 3
   },
   "file_extension": ".py",
   "mimetype": "text/x-python",
   "name": "python",
   "nbconvert_exporter": "python",
   "pygments_lexer": "ipython3",
   "version": "3.7.3"
  }
 },
 "nbformat": 4,
 "nbformat_minor": 2
}
